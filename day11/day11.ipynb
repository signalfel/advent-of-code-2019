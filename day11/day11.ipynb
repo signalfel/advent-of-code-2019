{
 "cells": [
  {
   "cell_type": "code",
   "execution_count": 1,
   "metadata": {},
   "outputs": [],
   "source": [
    "%load_ext autoreload\n",
    "%autoreload 2"
   ]
  },
  {
   "cell_type": "code",
   "execution_count": 2,
   "metadata": {},
   "outputs": [],
   "source": [
    "import sys\n",
    "sys.path.insert(0, '../code/')\n",
    "\n",
    "import intcode_computer as ic"
   ]
  },
  {
   "cell_type": "code",
   "execution_count": 3,
   "metadata": {},
   "outputs": [],
   "source": [
    "with open('input.txt') as inp:\n",
    "    in_program = inp.read()"
   ]
  },
  {
   "cell_type": "code",
   "execution_count": 4,
   "metadata": {},
   "outputs": [],
   "source": [
    "turn_dict = {'up1': 'right',\n",
    "           'right1': 'down',\n",
    "           'down1': 'left',\n",
    "           'left1': 'up',\n",
    "            'up0': 'left',\n",
    "            'left0': 'down',\n",
    "            'down0': 'right',\n",
    "            'right0': 'up'\n",
    "           }"
   ]
  },
  {
   "cell_type": "code",
   "execution_count": 5,
   "metadata": {},
   "outputs": [],
   "source": [
    "class robot:\n",
    "    def __init__(self, brain, verbose=False):\n",
    "        self.brain = brain\n",
    "        \n",
    "        self._facing = 'up'\n",
    "        self._tile = (0, 0)\n",
    "        \n",
    "        self.painted_tiles = 0\n",
    "        \n",
    "        self._verbose = verbose\n",
    "        \n",
    "    def turn(self, direction):\n",
    "        self._facing = turn_dict[self._facing + str(direction)]\n",
    "        if self._verbose:\n",
    "            print('Turning signal: {}. Now facing: {}'.format(direction, self._facing))\n",
    "        \n",
    "    def move(self):\n",
    "        if self._facing == 'up':\n",
    "            self._tile = (self._tile[0], self._tile[1]+1)\n",
    "        elif self._facing == 'down':\n",
    "            self._tile = (self._tile[0], self._tile[1]-1)\n",
    "        elif self._facing == 'left':\n",
    "            self._tile = (self._tile[0]-1, self._tile[1])\n",
    "        elif self._facing == 'right':\n",
    "            self._tile = (self._tile[0]+1, self._tile[1])\n",
    "        else:\n",
    "            raise ValueError\n",
    "                \n",
    "        if self._verbose:\n",
    "            print('Moving {} to {}'.format(self._facing, self._tile))\n",
    "        \n",
    "    def paint(self, panels):\n",
    "        if self._tile in panels:\n",
    "            panel_color = panels[self._tile]\n",
    "        else:\n",
    "            panel_color = 0\n",
    "            self.painted_tiles += 1\n",
    "        \n",
    "        if self._verbose:\n",
    "            print('Robot is at: {}'.format(self._tile))\n",
    "            print('Camera reads color: {}'.format(panel_color))\n",
    "        self.brain.input(panel_color)\n",
    "        \n",
    "        instructions = self.brain.run()\n",
    "        \n",
    "        color_to_paint = instructions[0]\n",
    "        if self._verbose:\n",
    "            print('Painting {} with color {}'.format(self._tile, color_to_paint))\n",
    "        panels[self._tile] = color_to_paint\n",
    "        \n",
    "        how_to_turn = instructions[1]\n",
    "        \n",
    "        self.turn(how_to_turn)\n",
    "        self.move()\n",
    "        \n",
    "        return panels"
   ]
  },
  {
   "cell_type": "markdown",
   "metadata": {},
   "source": [
    "## Part I"
   ]
  },
  {
   "cell_type": "code",
   "execution_count": 6,
   "metadata": {},
   "outputs": [],
   "source": [
    "verbose = False\n",
    "\n",
    "brain = ic.machine(in_program, return_output = True, inputs=[], reset_outputs = True, verbose=verbose)\n",
    "painter = robot(brain, verbose=verbose)"
   ]
  },
  {
   "cell_type": "code",
   "execution_count": 7,
   "metadata": {},
   "outputs": [],
   "source": [
    "panels = {}"
   ]
  },
  {
   "cell_type": "code",
   "execution_count": 8,
   "metadata": {},
   "outputs": [],
   "source": [
    "while not painter.brain.is_terminated:\n",
    "    panels = painter.paint(panels)"
   ]
  },
  {
   "cell_type": "code",
   "execution_count": 9,
   "metadata": {},
   "outputs": [
    {
     "data": {
      "text/plain": [
       "2056"
      ]
     },
     "execution_count": 9,
     "metadata": {},
     "output_type": "execute_result"
    }
   ],
   "source": [
    "painter.painted_tiles"
   ]
  },
  {
   "cell_type": "markdown",
   "metadata": {},
   "source": [
    "## Part II"
   ]
  },
  {
   "cell_type": "code",
   "execution_count": 10,
   "metadata": {},
   "outputs": [],
   "source": [
    "verbose = False\n",
    "\n",
    "brain = ic.machine(in_program, return_output = True, inputs=[], reset_outputs = True, verbose=verbose)\n",
    "painter = robot(brain, verbose=verbose)"
   ]
  },
  {
   "cell_type": "code",
   "execution_count": 11,
   "metadata": {},
   "outputs": [],
   "source": [
    "# single white panel\n",
    "panels = {(0, 0): 1}"
   ]
  },
  {
   "cell_type": "code",
   "execution_count": 12,
   "metadata": {},
   "outputs": [],
   "source": [
    "while not painter.brain.is_terminated:\n",
    "    panels = painter.paint(panels)"
   ]
  },
  {
   "cell_type": "code",
   "execution_count": 13,
   "metadata": {},
   "outputs": [],
   "source": [
    "import numpy as np\n",
    "\n",
    "def image_from_panels(panels):\n",
    "    minx = np.inf\n",
    "    miny = np.inf\n",
    "    maxx = -np.inf\n",
    "    maxy = -np.inf\n",
    "    for pt in panels.keys():\n",
    "        minx = min(minx, pt[0])\n",
    "        maxx = max(maxx, pt[0])\n",
    "        miny = min(miny, pt[1])\n",
    "        maxy = max(maxy, pt[1])\n",
    "    \n",
    "    siz_x = maxx - minx\n",
    "    siz_y = maxy - miny\n",
    "    image = np.ones((siz_y+1, siz_x+1))\n",
    "    \n",
    "    delta_y = abs(miny)\n",
    "    delta_x = abs(minx)\n",
    "    \n",
    "    for x,y in panels:\n",
    "        # flip y to make the plot readable\n",
    "        image[siz_y-(y+delta_y), (x+delta_x)] = panels[(x,y)]\n",
    "    \n",
    "    return image"
   ]
  },
  {
   "cell_type": "code",
   "execution_count": 14,
   "metadata": {},
   "outputs": [],
   "source": [
    "image = image_from_panels(panels)"
   ]
  },
  {
   "cell_type": "code",
   "execution_count": 16,
   "metadata": {},
   "outputs": [
    {
     "data": {
      "image/png": "[encoded data removed]",
      "text/plain": [
       "<Figure size 432x288 with 1 Axes>"
      ]
     },
     "metadata": {
      "needs_background": "light"
     },
     "output_type": "display_data"
    }
   ],
   "source": [
    "import matplotlib.pyplot as plt\n",
    "import matplotlib.cm as cm\n",
    "\n",
    "fig = plt.figure()\n",
    "ax = plt.axes()\n",
    "ax.imshow(image, interpolation='nearest', cmap=cm.Greys_r)\n",
    "plt.show()"
   ]
  }
 ],
 "metadata": {
  "kernelspec": {
   "display_name": "Python 3",
   "language": "python",
   "name": "python3"
  },
  "language_info": {
   "codemirror_mode": {
    "name": "ipython",
    "version": 3
   },
   "file_extension": ".py",
   "mimetype": "text/x-python",
   "name": "python",
   "nbconvert_exporter": "python",
   "pygments_lexer": "ipython3",
   "version": "3.7.3"
  }
 },
 "nbformat": 4,
 "nbformat_minor": 2
}

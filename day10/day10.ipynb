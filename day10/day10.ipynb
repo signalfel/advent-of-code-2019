{
 "cells": [
  {
   "cell_type": "code",
   "execution_count": 1,
   "metadata": {},
   "outputs": [],
   "source": [
    "%load_ext autoreload\n",
    "%autoreload 2"
   ]
  },
  {
   "cell_type": "code",
   "execution_count": 2,
   "metadata": {},
   "outputs": [],
   "source": [
    "import numpy as np\n",
    "import math"
   ]
  },
  {
   "cell_type": "code",
   "execution_count": 96,
   "metadata": {},
   "outputs": [],
   "source": [
    "with open('input.txt') as inp:\n",
    "    in_map = inp.read()"
   ]
  },
  {
   "cell_type": "code",
   "execution_count": 4,
   "metadata": {},
   "outputs": [],
   "source": [
    "test_map = '''.#..#\n",
    ".....\n",
    "#####\n",
    "....#\n",
    "...##'''"
   ]
  },
  {
   "cell_type": "code",
   "execution_count": 9,
   "metadata": {},
   "outputs": [],
   "source": [
    "def matrix_from_map(map_str):\n",
    "    rows = map_str.split('\\n')\n",
    "    arrays = []\n",
    "    for row in rows:\n",
    "        arrays.append(np.array([[np.nan if c is '.' else 1 for c in row ]]))\n",
    "    return np.concatenate(arrays)\n",
    "        "
   ]
  },
  {
   "cell_type": "code",
   "execution_count": 6,
   "metadata": {},
   "outputs": [],
   "source": [
    "ast_matrix = matrix_from_map(in_map)\n",
    "wid = np.size(ast_matrix, 0)\n",
    "hei = np.size(ast_matrix, 1)"
   ]
  },
  {
   "cell_type": "markdown",
   "metadata": {},
   "source": [
    "## Part I\n",
    "\n",
    "Since it does not take any time at all, even for the puzzle input, we choose a lazy looping scheme"
   ]
  },
  {
   "cell_type": "code",
   "execution_count": 6,
   "metadata": {},
   "outputs": [],
   "source": [
    "def generate_vis_matrix(ast_matrix):\n",
    "    vis_matrix = ast_matrix.copy()\n",
    "    for i in range(hei):\n",
    "        for j in range(wid):\n",
    "            angle_matrix = ast_matrix.copy()\n",
    "            if ~np.isnan(ast_matrix[i, j]):\n",
    "                for ia in range(hei):\n",
    "                    for ja in range(wid):\n",
    "                        if (i == ia) and (j == ja):\n",
    "                            angle_matrix[ia, ja] = np.nan\n",
    "                        else:\n",
    "                            angle_matrix[ia, ja] *= math.atan2((ja - j), (ia - i))\n",
    "                vis_matrix[i, j] = len(np.unique(angle_matrix[~np.isnan(angle_matrix)]))\n",
    "    return vis_matrix"
   ]
  },
  {
   "cell_type": "code",
   "execution_count": 171,
   "metadata": {},
   "outputs": [],
   "source": [
    "vis_matrix = generate_vis_matrix(ast_matrix)"
   ]
  },
  {
   "cell_type": "code",
   "execution_count": 9,
   "metadata": {},
   "outputs": [
    {
     "data": {
      "text/plain": [
       "214.0"
      ]
     },
     "execution_count": 9,
     "metadata": {},
     "output_type": "execute_result"
    }
   ],
   "source": [
    "# maximum number of visible asteroids\n",
    "np.max(vis_matrix[~np.isnan(vis_matrix)])"
   ]
  },
  {
   "cell_type": "code",
   "execution_count": 10,
   "metadata": {},
   "outputs": [
    {
     "data": {
      "text/plain": [
       "328"
      ]
     },
     "execution_count": 10,
     "metadata": {},
     "output_type": "execute_result"
    }
   ],
   "source": [
    "# linear position of max\n",
    "np.nanargmax(vis_matrix)"
   ]
  },
  {
   "cell_type": "code",
   "execution_count": 104,
   "metadata": {},
   "outputs": [
    {
     "data": {
      "text/plain": [
       "(16, 8)"
      ]
     },
     "execution_count": 104,
     "metadata": {},
     "output_type": "execute_result"
    }
   ],
   "source": [
    "# i, j position of max\n",
    "np.unravel_index(np.nanargmax(vis_matrix), (hei, wid))"
   ]
  },
  {
   "cell_type": "markdown",
   "metadata": {},
   "source": [
    "## Part II"
   ]
  },
  {
   "cell_type": "code",
   "execution_count": 64,
   "metadata": {},
   "outputs": [],
   "source": [
    "test_map = '''.#..#\n",
    ".....\n",
    "#####\n",
    "....#\n",
    "...##'''"
   ]
  },
  {
   "cell_type": "code",
   "execution_count": 127,
   "metadata": {},
   "outputs": [],
   "source": [
    "test_map = '''.#....#####...#..\n",
    "##...##.#####..##\n",
    "##...#...#.#####.\n",
    "..#.........###..\n",
    "..#.#.....#....##'''"
   ]
  },
  {
   "cell_type": "code",
   "execution_count": 10,
   "metadata": {},
   "outputs": [],
   "source": [
    "test_map = '''.#..##.###...#######\n",
    "##.############..##.\n",
    ".#.######.########.#\n",
    ".###.#######.####.#.\n",
    "#####.##.#.##.###.##\n",
    "..#####..#.#########\n",
    "####################\n",
    "#.####....###.#.#.##\n",
    "##.#################\n",
    "#####.##.###..####..\n",
    "..######..##.#######\n",
    "####.##.####...##..#\n",
    ".#####..#.######.###\n",
    "##...#.##########...\n",
    "#.##########.#######\n",
    ".####.#.###.###.#.##\n",
    "....##.##.###..#####\n",
    ".#.#.###########.###\n",
    "#.#.#.#####.####.###\n",
    "###.##.####.##.#..##'''"
   ]
  },
  {
   "cell_type": "code",
   "execution_count": 97,
   "metadata": {},
   "outputs": [],
   "source": [
    "ast_matrix = matrix_from_map(in_map)\n",
    "wid = np.size(ast_matrix, 1)\n",
    "hei = np.size(ast_matrix, 0)"
   ]
  },
  {
   "cell_type": "code",
   "execution_count": 98,
   "metadata": {},
   "outputs": [],
   "source": [
    "vis_matrix = generate_vis_matrix(ast_matrix)"
   ]
  },
  {
   "cell_type": "code",
   "execution_count": 99,
   "metadata": {},
   "outputs": [],
   "source": [
    "i, j  = np.unravel_index(np.nanargmax(vis_matrix), (wid, hei))"
   ]
  },
  {
   "cell_type": "code",
   "execution_count": 100,
   "metadata": {},
   "outputs": [
    {
     "data": {
      "text/plain": [
       "(16, 8)"
      ]
     },
     "execution_count": 100,
     "metadata": {},
     "output_type": "execute_result"
    }
   ],
   "source": [
    "i, j"
   ]
  },
  {
   "cell_type": "code",
   "execution_count": 101,
   "metadata": {},
   "outputs": [],
   "source": [
    "def make_angle_and_dist(ast_matrix, i, j):\n",
    "    angle_matrix = ast_matrix.copy()\n",
    "    dist_matrix = ast_matrix.copy()\n",
    "    for ia in range(hei):\n",
    "        for ja in range(wid):\n",
    "            if (i == ia) and (j == ja):\n",
    "                angle_matrix[ia, ja] = np.nan\n",
    "                dist_matrix[ia, ja] = np.nan\n",
    "            else:\n",
    "                angle_matrix[ia, ja] *= math.atan2((ia - i), (ja - j)) * 180/math.pi\n",
    "                dist_matrix[ia, ja] = math.sqrt((ja-j)**2 + (ia-i)**2 )\n",
    "    return angle_matrix, dist_matrix"
   ]
  },
  {
   "cell_type": "code",
   "execution_count": 102,
   "metadata": {},
   "outputs": [
    {
     "name": "stderr",
     "output_type": "stream",
     "text": [
      "C:\\ProgramData\\Anaconda3\\lib\\site-packages\\ipykernel_launcher.py:11: RuntimeWarning: invalid value encountered in less\n",
      "  # This is added back by InteractiveShellApp.init_path()\n"
     ]
    }
   ],
   "source": [
    "angle_matrix, dist_matrix = make_angle_and_dist(ast_matrix, i, j)\n",
    "\n",
    "order_matrix = angle_matrix.copy()\n",
    "order_matrix[~np.isnan(order_matrix)] = 0\n",
    "\n",
    "laser_angle = -90\n",
    "\n",
    "asteroid_number = 1\n",
    "while 0 in order_matrix:\n",
    "    diff_m = angle_matrix - laser_angle\n",
    "    diff_m[diff_m < 0] = np.inf\n",
    "    rw, cl = np.where(diff_m == np.nanmin(diff_m))\n",
    "    pts = [(i,j) for i,j in zip(rw, cl)]\n",
    "    \n",
    "    \n",
    "    d_closest_ast = np.inf\n",
    "    for pt in pts:\n",
    "        if d_closest_ast > dist_matrix[pt]:\n",
    "            d_closest_ast = dist_matrix[pt]\n",
    "            closest_ast = pt\n",
    "    \n",
    "    \n",
    "    laser_angle = angle_matrix[pt] if len(pts) == 1 else angle_matrix[pt]+1e-12\n",
    "    if laser_angle > 180:\n",
    "        laser_angle = -179.999999999999999999\n",
    "    \n",
    "    angle_matrix[closest_ast] = np.nan\n",
    "    order_matrix[closest_ast] = asteroid_number\n",
    "    asteroid_number += 1"
   ]
  },
  {
   "cell_type": "code",
   "execution_count": 103,
   "metadata": {},
   "outputs": [
    {
     "data": {
      "text/plain": [
       "(array([2], dtype=int64), array([5], dtype=int64))"
      ]
     },
     "execution_count": 103,
     "metadata": {},
     "output_type": "execute_result"
    }
   ],
   "source": [
    "np.where(order_matrix == 200)"
   ]
  },
  {
   "cell_type": "code",
   "execution_count": 89,
   "metadata": {},
   "outputs": [],
   "source": [
    "angle_matrix, dist_matrix = make_angle_and_dist(ast_matrix, i, j)"
   ]
  },
  {
   "cell_type": "code",
   "execution_count": 84,
   "metadata": {},
   "outputs": [],
   "source": [
    "def map_from_matrix(matrix):\n",
    "    for i in range(np.size(matrix, 0)):\n",
    "        row = matrix[i]\n",
    "        row_list = [str((round(elem, 3))) if not np.isnan(elem) else '.' for elem in row]\n",
    "        row_str = ''\n",
    "        for i in row_list:\n",
    "            row_str+=i+' '*(6-len(i))\n",
    "        print(row_str)"
   ]
  },
  {
   "cell_type": "code",
   "execution_count": 68,
   "metadata": {},
   "outputs": [
    {
     "name": "stdout",
     "output_type": "stream",
     "text": [
      ".    261  .    .    269  271  .    277  281  284  .    .    .    7    11   16   20   25   27   33   \n",
      "253  258  .    263  266  296  273  276  280  283  286  297  2    288  290  .    .    298  31   .    \n",
      ".    254  .    262  264  268  272  275  279  .    285  287  3    9    13   18   24   28   .    38   \n",
      ".    299  255  259  .    265  270  274  278  282  236  230  .    289  15   291  292  .    36   .    \n",
      "248  251  295  256  260  .    267  226  .    219  .    217  4    .    17   23   29   .    40   45   \n",
      ".    .    250  252  257  231  223  .    .    206  .    202  5    12   19   214  34   232  44   293  \n",
      "244  246  247  249  228  220  212  203  199  198  193  192  6    14   22   30   37   43   229  47   \n",
      "243  .    245  233  221  210  .    .    .    .    184  183  8    .    26   .    42   .    48   234  \n",
      "241  242  .    224  213  201  194  187  181  177  176  173  10   21   32   41   195  49   52   54   \n",
      "239  240  227  215  204  .    188  179  .    171  169  167  .    .    39   180  50   53   .    .    \n",
      ".    .    225  211  200  189  182  174  .    .    164  161  .    35   170  51   55   190  57   59   \n",
      "237  238  222  207  .    186  178  .    166  158  155  145  .    .    .    172  58   .    .    208  \n",
      ".    294  218  205  196  185  .    .    165  .    131  1    46   56   60   61   .    62   63   64   \n",
      "162  160  .    .    .    157  .    154  151  144  130  .    65   152  163  168  175  .    .    .    \n",
      "129  .    128  127  126  125  124  122  120  116  107  96   .    76   72   70   69   68   67   66   \n",
      ".    143  123  142  121  .    119  .    112  138  102  .    90   85   80   .    74   .    71   209  \n",
      ".    .    .    .    118  140  .    110  148  .    100  135  92   .    .    82   78   191  75   73   \n",
      ".    141  .    150  .    139  109  153  105  137  99   146  93   133  87   132  .    197  77   216  \n",
      "117  .    114  .    111  .    156  106  103  101  98   .    94   91   89   86   .    83   81   79   \n",
      "115  113  149  .    108  159  .    104  147  136  97   .    95   134  .    88   .    .    84   235  \n"
     ]
    }
   ],
   "source": [
    "map_from_matrix(order_matrix)"
   ]
  },
  {
   "cell_type": "code",
   "execution_count": 90,
   "metadata": {},
   "outputs": [
    {
     "name": "stdout",
     "output_type": "stream",
     "text": [
      ".     -127.569.     .     -118.301-114.775.     -107.103-102.995-98.746.     .     .     -81.254-77.005-72.897-68.962-65.225-61.699-58.392\n",
      "-132.51-129.806.     -123.69-120.256-116.565-112.62-108.435-104.036-99.462-94.764-90.0 -85.236-80.538-75.964.     .     -63.435-59.744.     \n",
      ".     -132.274.     -126.027-122.471-118.61-114.444-109.983-105.255.     -95.194-90.0 -84.806-79.695-74.745-70.017-65.556-61.39.     -53.973\n",
      ".     -135.0-131.987-128.66.     -120.964-116.565-111.801-106.699-101.31-95.711-90.0 .     -78.69-73.301-68.199-63.435.     -55.008.     \n",
      "-140.711-138.013-135.0-131.634-127.875.     -119.055-113.962.     -102.529.     -90.0 -83.66.     -71.565-66.038-60.945.     -52.125-48.366\n",
      ".     .     -138.366-135.0-131.186-126.87-122.005.     .     -104.036.     -90.0 -82.875-75.964-69.444-63.435-57.995-53.13-48.814-45.0 \n",
      "-147.529-145.008-142.125-138.814-135.0-130.601-125.538-119.745-113.199-105.945-98.13-90.0 -81.87-74.055-66.801-60.255-54.462-49.399-45.0 -41.186\n",
      "-151.39.     -146.31-143.13-139.399-135.0.     .     .     .     -99.462-90.0 -80.538.     -63.435.     -50.194.     -40.601-36.87\n",
      "-155.556-153.435.     -147.995-144.462-140.194-135.0-128.66-120.964-111.801-101.31-90.0 -78.69-68.199-59.036-51.34-45.0 -39.806-35.538-32.005\n",
      "-160.017-158.199-156.038-153.435-150.255.     -141.34-135.0.     -116.565-104.036-90.0 .     .     -53.13-45.0 -38.66-33.69.     .     \n",
      ".     .     -161.565-159.444-156.801-153.435-149.036-143.13.     .     -108.435-90.0 .     -56.31-45.0 -36.87-30.964-26.565-23.199-20.556\n",
      "-169.695-168.69-167.471-165.964.     -161.565-158.199.     -146.31-135.0-116.565-90.0 .     .     .     -26.565-21.801.     .     -14.036\n",
      ".     -174.289-173.66-172.875-171.87-170.538.     .     -161.565.     -135.0-90.0 -45.0 -26.565-18.435-14.036.     -9.462-8.13 -7.125\n",
      "180.0 180.0 .     .     .     180.0 .     180.0 180.0 180.0 180.0 .     0.0   0.0   0.0   0.0   0.0   .     .     .     \n",
      "174.806.     173.66172.875171.87170.538168.69165.964161.565153.435135.0 90.0  .     26.56518.43514.03611.31 9.462 8.13  7.125 \n",
      ".     168.69167.471165.964164.055.     158.199.     146.31135.0 116.565.     63.43545.0  33.69 .     21.801.     15.94514.036\n",
      ".     .     .     .     156.801153.435.     143.13135.0 .     108.43590.0  71.565.     .     36.87 30.96426.56523.19920.556\n",
      ".     158.199.     153.435.     146.31141.34135.0 126.87116.565104.03690.0  75.96463.43553.13 45.0  .     33.69 29.74526.565\n",
      "155.556.     150.945.     144.462.     135.0 128.66120.964111.801101.31.     78.69 68.19959.03651.34 .     39.80635.53832.005\n",
      "151.39149.036146.31.     139.399135.0 .     123.69116.565108.43599.462.     80.53871.565.     56.31 .     .     40.60136.87 \n"
     ]
    }
   ],
   "source": [
    "map_from_matrix(angle_matrix)"
   ]
  }
 ],
 "metadata": {
  "kernelspec": {
   "display_name": "Python 3",
   "language": "python",
   "name": "python3"
  },
  "language_info": {
   "codemirror_mode": {
    "name": "ipython",
    "version": 3
   },
   "file_extension": ".py",
   "mimetype": "text/x-python",
   "name": "python",
   "nbconvert_exporter": "python",
   "pygments_lexer": "ipython3",
   "version": "3.7.3"
  }
 },
 "nbformat": 4,
 "nbformat_minor": 2
}

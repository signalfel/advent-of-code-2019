{
 "cells": [
  {
   "cell_type": "code",
   "execution_count": 1,
   "metadata": {},
   "outputs": [],
   "source": [
    "%load_ext autoreload\n",
    "%autoreload 2"
   ]
  },
  {
   "cell_type": "code",
   "execution_count": 2,
   "metadata": {},
   "outputs": [],
   "source": [
    "import numpy as np\n",
    "import math"
   ]
  },
  {
   "cell_type": "code",
   "execution_count": 3,
   "metadata": {},
   "outputs": [],
   "source": [
    "with open('input.txt') as inp:\n",
    "    in_map = inp.read()"
   ]
  },
  {
   "cell_type": "code",
   "execution_count": null,
   "metadata": {},
   "outputs": [],
   "source": [
    "test_map = '''.#..#\n",
    ".....\n",
    "#####\n",
    "....#\n",
    "...##'''"
   ]
  },
  {
   "cell_type": "code",
   "execution_count": 4,
   "metadata": {},
   "outputs": [],
   "source": [
    "def matrix_from_map(map_str):\n",
    "    rows = map_str.split('\\n')\n",
    "    arrays = []\n",
    "    for row in rows:\n",
    "        arrays.append(np.array([[np.nan if c is '.' else 1 for c in row ]]))\n",
    "    return np.concatenate(arrays)\n",
    "        "
   ]
  },
  {
   "cell_type": "code",
   "execution_count": 8,
   "metadata": {},
   "outputs": [],
   "source": [
    "ast_matrix = matrix_from_map(in_map)\n",
    "wid = np.size(ast_matrix, 0)\n",
    "hei = np.size(ast_matrix, 1)"
   ]
  },
  {
   "cell_type": "markdown",
   "metadata": {},
   "source": [
    "## Part I\n",
    "\n",
    "Since it does not take any time at all, even for the puzzle input, we choose a lazy looping scheme"
   ]
  },
  {
   "cell_type": "code",
   "execution_count": 9,
   "metadata": {},
   "outputs": [],
   "source": [
    "def generate_vis_matrix(ast_matrix):\n",
    "    vis_matrix = ast_matrix.copy()\n",
    "    for i in range(wid):\n",
    "        for j in range(hei):\n",
    "            angle_matrix = ast_matrix.copy()\n",
    "            if ~np.isnan(ast_matrix[i, j]):\n",
    "                for ia in range(wid):\n",
    "                    for ja in range(hei):\n",
    "                        if (i == ia) and (j == ja):\n",
    "                            angle_matrix[ia, ja] = np.nan\n",
    "                        else:\n",
    "                            angle_matrix[ia, ja] *= math.atan2((ja - j), (ia - i))\n",
    "                vis_matrix[i, j] = len(np.unique(angle_matrix[~np.isnan(angle_matrix)]))\n",
    "    return vis_matrix"
   ]
  },
  {
   "cell_type": "code",
   "execution_count": 10,
   "metadata": {},
   "outputs": [],
   "source": [
    "vis_matrix = generate_vis_matrix(ast_matrix)"
   ]
  },
  {
   "cell_type": "code",
   "execution_count": 11,
   "metadata": {},
   "outputs": [
    {
     "data": {
      "text/plain": [
       "214.0"
      ]
     },
     "execution_count": 11,
     "metadata": {},
     "output_type": "execute_result"
    }
   ],
   "source": [
    "# maximum number of visible asteroids\n",
    "np.max(vis_matrix[~np.isnan(vis_matrix)])"
   ]
  },
  {
   "cell_type": "code",
   "execution_count": 12,
   "metadata": {},
   "outputs": [
    {
     "data": {
      "text/plain": [
       "328"
      ]
     },
     "execution_count": 12,
     "metadata": {},
     "output_type": "execute_result"
    }
   ],
   "source": [
    "# linear position of max\n",
    "np.nanargmax(vis_matrix)"
   ]
  },
  {
   "cell_type": "code",
   "execution_count": 13,
   "metadata": {},
   "outputs": [
    {
     "data": {
      "text/plain": [
       "(16, 8)"
      ]
     },
     "execution_count": 13,
     "metadata": {},
     "output_type": "execute_result"
    }
   ],
   "source": [
    "# i, j position of max\n",
    "np.unravel_index(np.nanargmax(vis_matrix), (wid, hei))"
   ]
  },
  {
   "cell_type": "markdown",
   "metadata": {},
   "source": [
    "## Part II"
   ]
  },
  {
   "cell_type": "code",
   "execution_count": 14,
   "metadata": {},
   "outputs": [],
   "source": [
    "test_map = '''.#..#\n",
    ".....\n",
    "#####\n",
    "....#\n",
    "...##'''"
   ]
  },
  {
   "cell_type": "code",
   "execution_count": 15,
   "metadata": {},
   "outputs": [],
   "source": [
    "ast_matrix = matrix_from_map(test_map)\n",
    "wid = np.size(ast_matrix, 0)\n",
    "hei = np.size(ast_matrix, 1)"
   ]
  },
  {
   "cell_type": "code",
   "execution_count": 16,
   "metadata": {},
   "outputs": [],
   "source": [
    "vis_matrix = generate_vis_matrix(ast_matrix)\n",
    "i, j = np.unravel_index(np.nanargmax(vis_matrix), (wid, hei))\n",
    "\n",
    "angle_matrix = ast_matrix.copy()\n",
    "dist_matrix = ast_matrix.copy()\n",
    "for ia in range(wid):\n",
    "    for ja in range(hei):\n",
    "        if (i == ia) and (j == ja):\n",
    "            angle_matrix[ia, ja] = np.nan\n",
    "            dist_matrix[ia, ja] = np.nan\n",
    "        else:\n",
    "            angle_matrix[ia, ja] *= math.atan2((ia - i), (ja - j))\n",
    "            dist_matrix[ia, ja] = math.sqrt((ja-j)**2 + (ia-i)**2 )"
   ]
  },
  {
   "cell_type": "code",
   "execution_count": 17,
   "metadata": {},
   "outputs": [
    {
     "data": {
      "text/plain": [
       "array([[5.        , 4.47213595, 4.12310563, 4.        , 4.12310563],\n",
       "       [4.24264069, 3.60555128, 3.16227766, 3.        , 3.16227766],\n",
       "       [3.60555128, 2.82842712, 2.23606798, 2.        , 2.23606798],\n",
       "       [3.16227766, 2.23606798, 1.41421356, 1.        , 1.41421356],\n",
       "       [3.        , 2.        , 1.        ,        nan, 1.        ]])"
      ]
     },
     "execution_count": 17,
     "metadata": {},
     "output_type": "execute_result"
    }
   ],
   "source": [
    "dist_matrix"
   ]
  },
  {
   "cell_type": "code",
   "execution_count": 18,
   "metadata": {},
   "outputs": [
    {
     "data": {
      "text/plain": [
       "array([[        nan, -2.03444394,         nan,         nan, -1.32581766],\n",
       "       [        nan,         nan,         nan,         nan,         nan],\n",
       "       [-2.55359005, -2.35619449, -2.03444394, -1.57079633, -1.10714872],\n",
       "       [        nan,         nan,         nan,         nan, -0.78539816],\n",
       "       [        nan,         nan,         nan,         nan,  0.        ]])"
      ]
     },
     "execution_count": 18,
     "metadata": {},
     "output_type": "execute_result"
    }
   ],
   "source": [
    "angle_matrix"
   ]
  },
  {
   "cell_type": "code",
   "execution_count": null,
   "metadata": {},
   "outputs": [],
   "source": [
    "laser_angle = -math.pi/2\n",
    "while True:\n",
    "    "
   ]
  }
 ],
 "metadata": {
  "kernelspec": {
   "display_name": "Python 3",
   "language": "python",
   "name": "python3"
  },
  "language_info": {
   "codemirror_mode": {
    "name": "ipython",
    "version": 3
   },
   "file_extension": ".py",
   "mimetype": "text/x-python",
   "name": "python",
   "nbconvert_exporter": "python",
   "pygments_lexer": "ipython3",
   "version": "3.7.3"
  }
 },
 "nbformat": 4,
 "nbformat_minor": 2
}

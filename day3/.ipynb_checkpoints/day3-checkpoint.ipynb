{
 "cells": [
  {
   "cell_type": "code",
   "execution_count": 1,
   "metadata": {},
   "outputs": [],
   "source": [
    "%load_ext autoreload\n",
    "%autoreload 2"
   ]
  },
  {
   "cell_type": "code",
   "execution_count": 2,
   "metadata": {},
   "outputs": [],
   "source": [
    "import numpy as np\n",
    "from timeit import default_timer as timer\n",
    "import pandas as pd"
   ]
  },
  {
   "cell_type": "code",
   "execution_count": 3,
   "metadata": {},
   "outputs": [],
   "source": [
    "with open('input.txt') as inp:\n",
    "    in_paths = inp.read()\n",
    "    \n",
    "def paths_from_input(path_string):\n",
    "    path_split = path_string.split('\\n')\n",
    "    path1 = path_split[0].split(',')\n",
    "    path2 = path_split[1].split(',')\n",
    "    return path1, path2"
   ]
  },
  {
   "cell_type": "markdown",
   "metadata": {},
   "source": [
    "## Wire class"
   ]
  },
  {
   "cell_type": "code",
   "execution_count": 4,
   "metadata": {},
   "outputs": [],
   "source": [
    "def add(p, line):\n",
    "    return (p[0] + line[0], p[1] + line[1])\n",
    "\n",
    "def manhattan_distance(p):\n",
    "    return abs(p[0]) + abs(p[1])\n",
    "\n",
    "class wire:\n",
    "    def __init__(self, path=None):\n",
    "        self.visits = pd.DataFrame({'point': [(0, 0)] })\n",
    "        self.wire_head = (0, 0)\n",
    "        \n",
    "        if path is not None:\n",
    "            for line in path:\n",
    "                self.move(line)\n",
    "    \n",
    "    def move(self, line):\n",
    "        heading = line[0]\n",
    "        steps = int(line[1:])\n",
    "        \n",
    "        funcs = {'L': self.move_left, 'R': self.move_right, \n",
    "                 'U': self.move_up, 'D': self.move_down}\n",
    "        func = funcs[heading]\n",
    "        return func(steps)\n",
    "    \n",
    "    def move_up(self, steps): \n",
    "        new_df = pd.DataFrame({'point': [add(self.wire_head, (0, step)) for step in range(1, steps+1)]})\n",
    "        self.visits = pd.concat([self.visits, new_df], axis=0, ignore_index=True)\n",
    "        self.wire_head = add(self.wire_head, (0, steps) )\n",
    "    \n",
    "    def move_down(self, steps):\n",
    "        new_df = pd.DataFrame({'point': [add(self.wire_head, (0, -step)) for step in range(1, steps+1)]})\n",
    "        self.visits = pd.concat([self.visits, new_df], axis=0, ignore_index=True)\n",
    "        self.wire_head = add(self.wire_head, (0, -steps) )\n",
    "        \n",
    "    def move_left(self, steps):\n",
    "        new_df = pd.DataFrame({'point': [add(self.wire_head, (-step, 0)) for step in range(1, steps+1)]})\n",
    "        self.visits = pd.concat([self.visits, new_df], axis=0, ignore_index=True)\n",
    "        self.wire_head = add(self.wire_head, (-steps, 0) )\n",
    "    \n",
    "    def move_right(self, steps):\n",
    "        new_df = pd.DataFrame({'point': [add(self.wire_head, (step, 0)) for step in range(1, steps+1)]})\n",
    "        self.visits = pd.concat([self.visits, new_df], axis=0, ignore_index=True)\n",
    "        self.wire_head = add(self.wire_head, (steps, 0) )\n",
    "    \n",
    "    \n",
    "    def print_head_loc(self):\n",
    "        print('Wire head is at: {}'.format(self.wire_head))\n",
    "        \n",
    "    def print_visits(self):\n",
    "        print('Visits:')\n",
    "        print(self.visits)\n",
    "        \n",
    "    def fewest_combined_steps(self, other):\n",
    "        merged = pd.merge(self.visits.reset_index(), other.visits.reset_index(), how='inner', on='point')\n",
    "        return merged.loc[merged.point != (0, 0)].apply(lambda x: x.index_x + x.index_y, axis=1).min()\n",
    "    \n",
    "    def d_closest_non_trivial_crossing(self, other):\n",
    "        merged = pd.merge(self.visits, other.visits, how='inner', on='point')\n",
    "        return merged.loc[merged.point != (0, 0), 'point'].apply(manhattan_distance).min()"
   ]
  },
  {
   "cell_type": "markdown",
   "metadata": {},
   "source": [
    "## Part I"
   ]
  },
  {
   "cell_type": "code",
   "execution_count": null,
   "metadata": {},
   "outputs": [],
   "source": [
    "test_paths = 'R8,U5,L5,D3\\nU7,R6,D4,L4'\n",
    "test_paths = 'R75,D30,R83,U83,L12,D49,R71,U7,L72\\nU62,R66,U55,R34,D71,R55,D58,R83'"
   ]
  },
  {
   "cell_type": "code",
   "execution_count": 5,
   "metadata": {},
   "outputs": [],
   "source": [
    "path1, path2 = paths_from_input(in_paths)"
   ]
  },
  {
   "cell_type": "code",
   "execution_count": 6,
   "metadata": {},
   "outputs": [
    {
     "name": "stdout",
     "output_type": "stream",
     "text": [
      "260\n",
      "Result was obtained in 2.8 s\n"
     ]
    }
   ],
   "source": [
    "t0 = timer()\n",
    "\n",
    "wire1 = wire(path1)\n",
    "wire2 = wire(path2)\n",
    "\n",
    "print(wire1.d_closest_non_trivial_crossing(wire2))\n",
    "print('Result was obtained in {0:.1f} s'.format(timer()-t0))"
   ]
  },
  {
   "cell_type": "markdown",
   "metadata": {},
   "source": [
    "## Part II"
   ]
  },
  {
   "cell_type": "code",
   "execution_count": 7,
   "metadata": {},
   "outputs": [
    {
     "name": "stdout",
     "output_type": "stream",
     "text": [
      "15612\n",
      "Result was obtained in 2.7 s\n"
     ]
    }
   ],
   "source": [
    "t0 = timer()\n",
    "\n",
    "wire1 = wire(path1)\n",
    "wire2 = wire(path2)\n",
    "\n",
    "print(wire1.fewest_combined_steps(wire2))\n",
    "print('Result was obtained in {0:.1f} s'.format(timer()-t0))"
   ]
  }
 ],
 "metadata": {
  "kernelspec": {
   "display_name": "Python 3",
   "language": "python",
   "name": "python3"
  },
  "language_info": {
   "codemirror_mode": {
    "name": "ipython",
    "version": 3
   },
   "file_extension": ".py",
   "mimetype": "text/x-python",
   "name": "python",
   "nbconvert_exporter": "python",
   "pygments_lexer": "ipython3",
   "version": "3.7.3"
  }
 },
 "nbformat": 4,
 "nbformat_minor": 2
}

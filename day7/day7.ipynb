{
 "cells": [
  {
   "cell_type": "code",
   "execution_count": 1,
   "metadata": {},
   "outputs": [],
   "source": [
    "%load_ext autoreload\n",
    "%autoreload 2"
   ]
  },
  {
   "cell_type": "code",
   "execution_count": 2,
   "metadata": {},
   "outputs": [],
   "source": [
    "import itertools\n",
    "import numpy as np\n",
    "\n",
    "import sys\n",
    "sys.path.insert(0, '../code/')\n",
    "\n",
    "import intcode_computer as ic"
   ]
  },
  {
   "cell_type": "code",
   "execution_count": null,
   "metadata": {},
   "outputs": [],
   "source": [
    "test_program = '3,23,3,24,1002,24,10,24,1002,23,-1,23,101,5,23,23,1,24,23,23,4,23,99,0,0'\n",
    "test_program = '3,15,3,16,1002,16,10,16,1,16,15,15,4,15,99,0,0'"
   ]
  },
  {
   "cell_type": "markdown",
   "metadata": {},
   "source": [
    "## Part I"
   ]
  },
  {
   "cell_type": "code",
   "execution_count": 3,
   "metadata": {},
   "outputs": [],
   "source": [
    "with open('input.txt') as inp:\n",
    "    in_program = inp.read()"
   ]
  },
  {
   "cell_type": "code",
   "execution_count": 4,
   "metadata": {},
   "outputs": [],
   "source": [
    "inputs = [0, 1, 2, 3, 4]\n",
    "permutations = list(itertools.permutations(inputs))"
   ]
  },
  {
   "cell_type": "code",
   "execution_count": 5,
   "metadata": {},
   "outputs": [],
   "source": [
    "amplifiers = ['A', 'B', 'C', 'D', 'E']"
   ]
  },
  {
   "cell_type": "code",
   "execution_count": 8,
   "metadata": {},
   "outputs": [],
   "source": [
    "max_output = -np.inf\n",
    "\n",
    "\n",
    "for perm in itertools.permutations(inputs):\n",
    "    program_input = 0\n",
    "    for amp,phase in zip(amplifiers, perm):\n",
    "        p = ic.machine(program=in_program, inputs=[phase, program_input], return_output=True, verbose =False)\n",
    "        outputs = p.run()\n",
    "        program_input = outputs[-1]\n",
    "    last_output = outputs[-1]\n",
    "    if last_output > max_output:\n",
    "        max_output = last_output\n",
    "        best_phase_settings = perm"
   ]
  },
  {
   "cell_type": "code",
   "execution_count": 9,
   "metadata": {},
   "outputs": [
    {
     "name": "stdout",
     "output_type": "stream",
     "text": [
      "34852 (1, 3, 2, 4, 0)\n"
     ]
    }
   ],
   "source": [
    "print(max_output, best_phase_settings)"
   ]
  },
  {
   "cell_type": "markdown",
   "metadata": {},
   "source": [
    "## Part II"
   ]
  },
  {
   "cell_type": "code",
   "execution_count": null,
   "metadata": {},
   "outputs": [],
   "source": [
    "test_program = '3,26,1001,26,-4,26,3,27,1002,27,2,27,1,27,26,27,4,27,1001,28,-1,28,1005,28,6,99,0,0,5'\n",
    "test_program = '3,52,1001,52,-5,52,3,53,1,52,56,54,1007,54,5,55,1005,55,26,1001,54,-5,54,1105,1,12,1,53,54,53,1008,54,0,55,1001,55,1,55,2,53,55,53,4,53,1001,56,-1,56,1005,56,6,99,0,0,0,0,10'\n",
    "in_program = test_program"
   ]
  },
  {
   "cell_type": "code",
   "execution_count": 10,
   "metadata": {},
   "outputs": [],
   "source": [
    "with open('input.txt') as inp:\n",
    "    in_program = inp.read()"
   ]
  },
  {
   "cell_type": "code",
   "execution_count": 11,
   "metadata": {},
   "outputs": [],
   "source": [
    "inputs = [5, 6, 7, 8, 9]\n",
    "permutations = list(itertools.permutations(inputs))"
   ]
  },
  {
   "cell_type": "code",
   "execution_count": 12,
   "metadata": {},
   "outputs": [],
   "source": [
    "max_output = 0\n",
    "for perm in itertools.permutations(inputs):\n",
    "    \n",
    "    program_input = 0\n",
    "\n",
    "    amplifiers = {'A': ic.machine(program=in_program, inputs=[perm[0]], return_output=True, verbose=False),\n",
    "                  'B': ic.machine(program=in_program, inputs=[perm[1]], return_output=True, verbose=False),\n",
    "                  'C': ic.machine(program=in_program, inputs=[perm[2]], return_output=True, verbose=False), \n",
    "                  'D': ic.machine(program=in_program, inputs=[perm[3]], return_output=True, verbose=False),\n",
    "                  'E': ic.machine(program=in_program, inputs=[perm[4]], return_output=True, verbose=False),}\n",
    "    \n",
    "    terminated = False\n",
    "    \n",
    "    while not terminated:\n",
    "        for amp_id in amplifiers:\n",
    "            amp = amplifiers[amp_id]\n",
    "            amp.run()\n",
    "            amp.input(program_input)\n",
    "            outputs = amp.run()\n",
    "            program_input = outputs[-1]\n",
    "\n",
    "        if (amp_id == 'E' and amp.is_terminated):\n",
    "            terminated = True\n",
    "            \n",
    "        last_output = outputs[-1]\n",
    "        if last_output > max_output:\n",
    "            max_output = last_output\n",
    "            best_phase_settings = perm"
   ]
  },
  {
   "cell_type": "code",
   "execution_count": 13,
   "metadata": {},
   "outputs": [
    {
     "name": "stdout",
     "output_type": "stream",
     "text": [
      "44282086 (6, 9, 5, 8, 7)\n"
     ]
    }
   ],
   "source": [
    "print(max_output, best_phase_settings)"
   ]
  }
 ],
 "metadata": {
  "kernelspec": {
   "display_name": "Python 3",
   "language": "python",
   "name": "python3"
  },
  "language_info": {
   "codemirror_mode": {
    "name": "ipython",
    "version": 3
   },
   "file_extension": ".py",
   "mimetype": "text/x-python",
   "name": "python",
   "nbconvert_exporter": "python",
   "pygments_lexer": "ipython3",
   "version": "3.7.3"
  }
 },
 "nbformat": 4,
 "nbformat_minor": 2
}

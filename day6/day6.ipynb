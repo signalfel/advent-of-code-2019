{
 "cells": [
  {
   "cell_type": "code",
   "execution_count": 1,
   "metadata": {},
   "outputs": [],
   "source": [
    "%load_ext autoreload\n",
    "%autoreload 2"
   ]
  },
  {
   "cell_type": "code",
   "execution_count": 2,
   "metadata": {},
   "outputs": [],
   "source": [
    "from timeit import default_timer as timer\n",
    "import numpy as np\n",
    "import pandas as pd\n",
    "from queue import Queue\n",
    "\n",
    "from IPython.core.debugger import set_trace"
   ]
  },
  {
   "cell_type": "code",
   "execution_count": 16,
   "metadata": {},
   "outputs": [],
   "source": [
    "test_schematic = '''COM)B\n",
    "B)C\n",
    "C)D\n",
    "D)E\n",
    "E)F\n",
    "B)G\n",
    "G)H\n",
    "D)I\n",
    "E)J\n",
    "J)K\n",
    "K)L'''"
   ]
  },
  {
   "cell_type": "code",
   "execution_count": 65,
   "metadata": {},
   "outputs": [],
   "source": [
    "with open('input.txt') as inp:\n",
    "    in_schematic = inp.read()"
   ]
  },
  {
   "cell_type": "code",
   "execution_count": null,
   "metadata": {},
   "outputs": [],
   "source": [
    "# tree data structure with stars as nodes, direct orbits as children"
   ]
  },
  {
   "cell_type": "code",
   "execution_count": 75,
   "metadata": {},
   "outputs": [],
   "source": [
    "class star:\n",
    "    def __init__(self, name = None):\n",
    "        self.direct_orbits = []\n",
    "        \n",
    "        self.n_direct_orbits = 0\n",
    "        self.n_indirect_orbits = 0\n",
    "        self.name = name\n",
    "        self.updated = False\n",
    "        \n",
    "        self.min_d_to_a = pd.np.inf\n",
    "        self.min_d_to_b = pd.np.inf\n",
    "    \n",
    "    def add_orbiter(self, other):\n",
    "        self.direct_orbits.append(other)\n",
    "        self.n_direct_orbits += 1\n",
    "\n",
    "    def update_indirect_orbits(self):\n",
    "        if self.updated:\n",
    "            return self.n_indirect_orbits\n",
    "        else:\n",
    "            self.updated = True\n",
    "            \n",
    "        if not self.direct_orbits:\n",
    "            self.n_indirect_orbits = 0\n",
    "        else:\n",
    "            for orbiter in self.direct_orbits:\n",
    "                self.n_indirect_orbits += orbiter.n_direct_orbits + orbiter.update_indirect_orbits()\n",
    "        return self.n_indirect_orbits\n",
    "        \n",
    "    def find_min_distances(self, a, b):\n",
    "        if a in self.direct_orbits:\n",
    "            self.min_d_to_a = 1\n",
    "        elif a is self:\n",
    "            self.min_d_to_a = 0\n",
    "        \n",
    "        if b in self.direct_orbits:\n",
    "            self.min_d_to_b = 1\n",
    "        elif b is self:\n",
    "            self.min_d_to_b = 0\n",
    "        \n",
    "        \n",
    "    \n",
    "    def __repr__(self):\n",
    "        return '{}'.format([n.name for n in self.direct_orbits])\n",
    "        "
   ]
  },
  {
   "cell_type": "code",
   "execution_count": 67,
   "metadata": {},
   "outputs": [],
   "source": [
    "def star_map_from_schematic(schematic):\n",
    "    relationships = schematic.split('\\n')\n",
    "    star_map = {}\n",
    "    \n",
    "    for orbit in relationships:\n",
    "        stars = orbit.split(')')\n",
    "        orbiter = stars[1]\n",
    "        orbited = stars[0]\n",
    "\n",
    "        if orbiter not in star_map:\n",
    "            star_map[orbiter] = star(orbiter)\n",
    "        \n",
    "        if orbited in star_map:\n",
    "            star_map[orbited].add_orbiter( star_map[orbiter] )\n",
    "        else:\n",
    "            star_map[orbited] = star(orbited)\n",
    "            star_map[orbited].add_orbiter( star_map[orbiter] )\n",
    "            \n",
    "    return star_map"
   ]
  },
  {
   "cell_type": "code",
   "execution_count": 71,
   "metadata": {},
   "outputs": [],
   "source": [
    "star_map = star_map_from_schematic(in_schematic)"
   ]
  },
  {
   "cell_type": "code",
   "execution_count": 72,
   "metadata": {},
   "outputs": [],
   "source": [
    "q = Queue()\n",
    "q.put(star_map['COM'])\n",
    "total_orbits = 0\n",
    "while not q.empty():\n",
    "    node = q.get_nowait()\n",
    "    node.update_indirect_orbits()\n",
    "    total_orbits += node.n_direct_orbits + node.n_indirect_orbits\n",
    "    for n in node.direct_orbits:\n",
    "        q.put(n)"
   ]
  },
  {
   "cell_type": "code",
   "execution_count": 73,
   "metadata": {},
   "outputs": [
    {
     "data": {
      "text/plain": [
       "241064"
      ]
     },
     "execution_count": 73,
     "metadata": {},
     "output_type": "execute_result"
    }
   ],
   "source": [
    "total_orbits"
   ]
  },
  {
   "cell_type": "code",
   "execution_count": null,
   "metadata": {},
   "outputs": [],
   "source": []
  }
 ],
 "metadata": {
  "kernelspec": {
   "display_name": "Python 3",
   "language": "python",
   "name": "python3"
  },
  "language_info": {
   "codemirror_mode": {
    "name": "ipython",
    "version": 3
   },
   "file_extension": ".py",
   "mimetype": "text/x-python",
   "name": "python",
   "nbconvert_exporter": "python",
   "pygments_lexer": "ipython3",
   "version": "3.7.3"
  }
 },
 "nbformat": 4,
 "nbformat_minor": 2
}

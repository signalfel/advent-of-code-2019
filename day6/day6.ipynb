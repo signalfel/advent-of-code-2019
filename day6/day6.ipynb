{
 "cells": [
  {
   "cell_type": "code",
   "execution_count": 1,
   "metadata": {},
   "outputs": [],
   "source": [
    "%load_ext autoreload\n",
    "%autoreload 2"
   ]
  },
  {
   "cell_type": "code",
   "execution_count": 2,
   "metadata": {},
   "outputs": [],
   "source": [
    "from timeit import default_timer as timer\n",
    "import numpy as np\n",
    "import pandas as pd\n",
    "from queue import Queue\n",
    "\n",
    "from IPython.core.debugger import set_trace"
   ]
  },
  {
   "cell_type": "markdown",
   "metadata": {},
   "source": [
    "## Part I"
   ]
  },
  {
   "cell_type": "code",
   "execution_count": 16,
   "metadata": {},
   "outputs": [],
   "source": [
    "test_schematic = '''COM)B\n",
    "B)C\n",
    "C)D\n",
    "D)E\n",
    "E)F\n",
    "B)G\n",
    "G)H\n",
    "D)I\n",
    "E)J\n",
    "J)K\n",
    "K)L'''"
   ]
  },
  {
   "cell_type": "code",
   "execution_count": 65,
   "metadata": {},
   "outputs": [],
   "source": [
    "with open('input.txt') as inp:\n",
    "    in_schematic = inp.read()"
   ]
  },
  {
   "cell_type": "code",
   "execution_count": null,
   "metadata": {},
   "outputs": [],
   "source": [
    "# tree data structure with stars as nodes, direct orbits as children"
   ]
  },
  {
   "cell_type": "code",
   "execution_count": 76,
   "metadata": {},
   "outputs": [],
   "source": [
    "class star:\n",
    "    def __init__(self, name = None):\n",
    "        self.direct_orbits = []\n",
    "        \n",
    "        self.n_direct_orbits = 0\n",
    "        self.n_indirect_orbits = 0\n",
    "        self.name = name\n",
    "        self.updated = False\n",
    "        \n",
    "    def add_orbiter(self, other):\n",
    "        self.direct_orbits.append(other)\n",
    "        self.n_direct_orbits += 1\n",
    "\n",
    "    def update_indirect_orbits(self):\n",
    "        if self.updated:\n",
    "            return self.n_indirect_orbits\n",
    "        else:\n",
    "            self.updated = True\n",
    "            \n",
    "        if not self.direct_orbits:\n",
    "            self.n_indirect_orbits = 0\n",
    "        else:\n",
    "            for orbiter in self.direct_orbits:\n",
    "                self.n_indirect_orbits += orbiter.n_direct_orbits + orbiter.update_indirect_orbits()\n",
    "        return self.n_indirect_orbits        \n",
    "    \n",
    "    def __repr__(self):\n",
    "        return '{}'.format([n.name for n in self.direct_orbits])\n",
    "        "
   ]
  },
  {
   "cell_type": "code",
   "execution_count": 67,
   "metadata": {},
   "outputs": [],
   "source": [
    "def star_map_from_schematic(schematic):\n",
    "    relationships = schematic.split('\\n')\n",
    "    star_map = {}\n",
    "    \n",
    "    for orbit in relationships:\n",
    "        stars = orbit.split(')')\n",
    "        orbiter = stars[1]\n",
    "        orbited = stars[0]\n",
    "\n",
    "        if orbiter not in star_map:\n",
    "            star_map[orbiter] = star(orbiter)\n",
    "        \n",
    "        if orbited in star_map:\n",
    "            star_map[orbited].add_orbiter( star_map[orbiter] )\n",
    "        else:\n",
    "            star_map[orbited] = star(orbited)\n",
    "            star_map[orbited].add_orbiter( star_map[orbiter] )\n",
    "            \n",
    "    return star_map"
   ]
  },
  {
   "cell_type": "code",
   "execution_count": 71,
   "metadata": {},
   "outputs": [],
   "source": [
    "star_map = star_map_from_schematic(in_schematic)"
   ]
  },
  {
   "cell_type": "code",
   "execution_count": 72,
   "metadata": {},
   "outputs": [],
   "source": [
    "q = Queue()\n",
    "q.put(star_map['COM'])\n",
    "total_orbits = 0\n",
    "while not q.empty():\n",
    "    node = q.get_nowait()\n",
    "    node.update_indirect_orbits()\n",
    "    total_orbits += node.n_direct_orbits + node.n_indirect_orbits\n",
    "    for n in node.direct_orbits:\n",
    "        q.put(n)"
   ]
  },
  {
   "cell_type": "code",
   "execution_count": 144,
   "metadata": {},
   "outputs": [
    {
     "data": {
      "text/plain": [
       "241064"
      ]
     },
     "execution_count": 144,
     "metadata": {},
     "output_type": "execute_result"
    }
   ],
   "source": [
    "total_orbits"
   ]
  },
  {
   "cell_type": "markdown",
   "metadata": {},
   "source": [
    "## Part II"
   ]
  },
  {
   "cell_type": "code",
   "execution_count": 118,
   "metadata": {},
   "outputs": [],
   "source": [
    "test_schematic = '''COM)B\n",
    "B)C\n",
    "C)D\n",
    "D)E\n",
    "E)F\n",
    "B)G\n",
    "G)H\n",
    "D)I\n",
    "E)J\n",
    "J)K\n",
    "K)L\n",
    "K)YOU\n",
    "I)SAN'''"
   ]
  },
  {
   "cell_type": "code",
   "execution_count": null,
   "metadata": {},
   "outputs": [],
   "source": [
    "# graph data structure, copied method"
   ]
  },
  {
   "cell_type": "code",
   "execution_count": 122,
   "metadata": {},
   "outputs": [],
   "source": [
    "class Graph(object):\n",
    "    def __init__(self, graph_dict=None):\n",
    "        \"\"\" initializes a graph object \n",
    "            If no dictionary or None is given, an empty dictionary will be used\n",
    "        \"\"\"\n",
    "        if graph_dict == None:\n",
    "            graph_dict = {}\n",
    "        self.__graph_dict = graph_dict\n",
    "\n",
    "\n",
    "    def vertices(self):\n",
    "        \"\"\" returns the vertices of a graph \"\"\"\n",
    "        return list(self.__graph_dict.keys())\n",
    "\n",
    "    def edges(self):\n",
    "        \"\"\" returns the edges of a graph \"\"\"\n",
    "        return self.__generate_edges()\n",
    "\n",
    "    def add_vertex(self, vertex):\n",
    "        \"\"\" If the vertex \"vertex\" is not in \n",
    "            self.__graph_dict, a key \"vertex\" with an empty\n",
    "            list as a value is added to the dictionary. \n",
    "            Otherwise nothing has to be done. \n",
    "        \"\"\"\n",
    "        if vertex not in self.__graph_dict:\n",
    "            self.__graph_dict[vertex] = []\n",
    "\n",
    "    def add_edge(self, edge):\n",
    "        \"\"\" assumes that edge is of type set, tuple or list; \n",
    "            between two vertices can be multiple edges! \n",
    "        \"\"\"\n",
    "        edge = set(edge)\n",
    "        vertex1 = edge.pop()\n",
    "        if edge:\n",
    "            # not a loop\n",
    "            vertex2 = edge.pop()\n",
    "        else:\n",
    "            # a loop\n",
    "            vertex2 = vertex1\n",
    "        if vertex1 in self.__graph_dict:\n",
    "            self.__graph_dict[vertex1].append(vertex2)\n",
    "        else:\n",
    "            self.__graph_dict[vertex1] = [vertex2]\n",
    "\n",
    "    def __generate_edges(self):\n",
    "        \"\"\" A static method generating the edges of the \n",
    "            graph \"graph\". Edges are represented as sets \n",
    "            with one (a loop back to the vertex) or two \n",
    "            vertices \n",
    "        \"\"\"\n",
    "        edges = []\n",
    "        for vertex in self.__graph_dict:\n",
    "            for neighbour in self.__graph_dict[vertex]:\n",
    "                if {neighbour, vertex} not in edges:\n",
    "                    edges.append({vertex, neighbour})\n",
    "        return edges\n",
    "\n",
    "    def __str__(self):\n",
    "        res = \"vertices: \"\n",
    "        for k in self.__graph_dict:\n",
    "            res += str(k) + \" \"\n",
    "        res += \"\\nedges: \"\n",
    "        for edge in self.__generate_edges():\n",
    "            res += str(edge) + \" \"\n",
    "        return res\n",
    "\n",
    "    def find_isolated_vertices(self):\n",
    "        \"\"\" returns a list of isolated vertices. \"\"\"\n",
    "        graph = self.__graph_dict\n",
    "        isolated = []\n",
    "        for vertex in graph:\n",
    "            print(isolated, vertex)\n",
    "            if not graph[vertex]:\n",
    "                isolated += [vertex]\n",
    "        return isolated\n",
    "\n",
    "    def find_path(self, start_vertex, end_vertex, path=[]):\n",
    "        \"\"\" find a path from start_vertex to end_vertex \n",
    "            in graph \"\"\"\n",
    "        graph = self.__graph_dict\n",
    "        path = path + [start_vertex]\n",
    "        if start_vertex == end_vertex:\n",
    "            return path\n",
    "        if start_vertex not in graph:\n",
    "            return None\n",
    "        for vertex in graph[start_vertex]:\n",
    "            if vertex not in path:\n",
    "                extended_path = self.find_path(vertex, \n",
    "                                               end_vertex, \n",
    "                                               path)\n",
    "                if extended_path: \n",
    "                    return extended_path\n",
    "        return None\n",
    "    \n",
    "\n",
    "    def find_all_paths(self, start_vertex, end_vertex, path=[]):\n",
    "        \"\"\" find all paths from start_vertex to \n",
    "            end_vertex in graph \"\"\"\n",
    "        graph = self.__graph_dict \n",
    "        path = path + [start_vertex]\n",
    "        if start_vertex == end_vertex:\n",
    "            return [path]\n",
    "        if start_vertex not in graph:\n",
    "            return []\n",
    "        paths = []\n",
    "        for vertex in graph[start_vertex]:\n",
    "            if vertex not in path:\n",
    "                extended_paths = self.find_all_paths(vertex, \n",
    "                                                     end_vertex, \n",
    "                                                     path)\n",
    "                for p in extended_paths: \n",
    "                    paths.append(p)\n",
    "        return paths"
   ]
  },
  {
   "cell_type": "code",
   "execution_count": 145,
   "metadata": {},
   "outputs": [],
   "source": [
    "def graph_from_schematic(schematic):\n",
    "    relationships = schematic.split('\\n')\n",
    "    graph = {}\n",
    "    \n",
    "    for orbit in relationships:\n",
    "        stars = orbit.split(')')\n",
    "        orbiter = stars[1]\n",
    "        orbited = stars[0]\n",
    "\n",
    "        if orbiter not in graph:\n",
    "            graph[orbiter] = []\n",
    "            \n",
    "        if orbited not in graph:\n",
    "            graph[orbited] = []\n",
    "        \n",
    "        graph[orbiter].append( orbited )\n",
    "        graph[orbited].append( orbiter )\n",
    "            \n",
    "    return Graph(graph)"
   ]
  },
  {
   "cell_type": "code",
   "execution_count": 156,
   "metadata": {},
   "outputs": [],
   "source": [
    "g = graph_from_schematic(in_schematic)"
   ]
  },
  {
   "cell_type": "code",
   "execution_count": 157,
   "metadata": {},
   "outputs": [
    {
     "name": "stdout",
     "output_type": "stream",
     "text": [
      "['YOU', '18W', 'H5C', '1LV', '6QP', 'TN5', '48B', '11M', 'S2Q', '7D5', 'HMG', 'P81', '6RV', 'TBN', '5RG', 'VVR', '22V', 'Q95', 'D68', 'QS4', 'YD9', '3G9', 'D73', 'HK9', 'SVT', '2SM', 'YSB', '463', 'FFW', 'KMC', '516', '51B', '2YC', 'F2Z', 'RCR', '75B', 'RLM', 'B89', 'S49', '2WT', 'ZY4', 'JLS', 'BCC', 'CTB', 'HGK', '7DD', 'VVQ', '7FL', 'J8T', '424', 'FXX', 'ZWV', '31M', 'J8N', 'XQ1', 'JMB', '6M7', 'H6N', 'D4M', 'TRY', 'DM2', 'LBR', '79V', 'F6S', 'S2N', 'MBD', 'VNR', 'YD3', 'JTD', 'CB6', 'WP5', '8Z4', 'SGK', 'LCL', 'NTV', 'NKW', '2NH', '49H', '7WJ', 'Q89', 'V6Y', 'QK9', 'R3H', '9BQ', 'ZFF', 'Z7R', '6YN', 'ZD1', 'CS7', 'WQM', 'C91', '1NZ', 'ZY1', 'LSY', 'LKG', '6DD', '523', 'XCN', 'ZFD', 'N1G', 'QD8', 'VK3', 'FF2', '2PH', 'GZZ', 'YG6', 'C2Q', 'MK7', 'J71', 'H1F', '17T', 'LZW', 'PHX', 'XJJ', 'MHC', 'NZ1', 'V6P', '7H1', 'C1C', 'SL9', 'ZTH', 'NC6', 'B6R', 'FK6', '7RG', '7DZ', '2YN', 'B1W', 'T6W', 'D2K', 'R54', 'J53', 'KSS', 'LNV', '9QQ', 'JDB', 'SRF', '3CS', 'RDK', '79T', 'H56', 'GYS', 'YZG', '1RK', 'D3X', 'RYF', 'LN1', 'B7L', 'TH6', 'WPG', 'B5B', 'THD', '223', 'CCH', 'Z26', '31N', 'M2F', 'XLV', '87L', '85N', '95M', 'ZZW', '3BY', 'FZR', '8HD', 'SWR', '8VZ', '97R', 'V8S', 'VXJ', 'RPS', 'C4J', 'C14', '67K', 'WL1', '6T4', '2LT', 'VV6', 'RNP', 'VYD', 'ZXJ', 'JXZ', 'ZW9', '4Q8', 'P9R', 'HPQ', '4DF', '3N4', 'RLJ', 'TK8', '1V2', 'ZWF', 'NL5', 'CYM', 'BHP', 'C9K', 'R7V', 'LLF', 'YSF', 'DDV', 'YBN', 'D2R', 'TD8', 'NH5', 'QQH', 'QVQ', 'D5P', '6R1', 'NN2', '7B4', 'C3K', 'C93', 'D81', 'XR1', 'D9X', 'GFK', 'SKD', 'P58', 'H13', '8GT', '4N6', '6L7', '8NG', 'BX1', '6FH', 'NTZ', '3CQ', 'VZ8', '33J', '8HY', 'HCR', '6K5', 'ZZ5', 'JXQ', '818', '3N7', 'WPL', '6Z3', 'MH9', '1WD', '3TK', '985', 'W3N', 'XGZ', 'G8J', '8XV', '1SC', '6FZ', '9PN', '72F', 'GV2', '1RB', '7TD', 'YTD', '3P1', 'HJB', '65T', 'VN3', '38S', 'XLX', 'BZ5', 'XV1', '9GM', '8PD', '7KK', 'W4Q', 'Y5B', '3W6', '34D', 'YC1', 'ZVB', '5W7', 'JGG', '36Z', '4R2', '4FL', 'QB5', 'T16', 'VHR', 'YMB', '1GS', '356', '6P4', 'FVZ', '42W', 'QSK', 'DD6', 'RK4', '319', 'FBR', 'QWH', 'TGD', '3QG', '52W', 'R3G', 'NYC', 'HZH', 'WYT', 'L92', 'Q9J', 'KQD', 'KL1', '12Q', 'F84', 'XQD', 'LBF', '7T6', 'QLQ', 'Q83', 'T53', 'LGF', 'KZ2', 'HWD', 'G9T', 'ZDN', '9CV', 'PCJ', 'YDN', 'LZ9', 'N56', 'YQV', '1HB', 'ST6', 'SL2', '3JG', 'PHJ', '6KN', 'V6B', '2SQ', '154', 'SB4', '57B', 'HB3', 'BRM', 'KYF', '855', '29M', 'ZK8', 'J5V', 'ZN6', 'SFY', 'FRV', '8VK', '8Q2', 'GJV', 'YTF', 'STL', '6MC', 'VTY', 'Z63', 'PP9', 'N5X', 'CGW', 'HWM', '56V', '25L', 'LQM', 'YLK', '3C8', '1XC', '6RS', '615', 'PY1', 'Z4W', 'MVY', 'FJF', 'NM8', 'G4G', 'S61', 'JQX', 'VZ9', 'VQK', 'V1P', 'CSP', '66R', 'RJF', 'V6F', 'LG7', 'N23', '7GC', 'ND2', 'M6Y', 'LXS', 'FXJ', 'J6B', 'TXC', 'H1R', 'NMR', 'SJ1', 'MH4', 'TFY', '2P5', 'PSP', 'SJ8', 'Y4X', '3N1', '3XT', 'WM3', '6ZP', '8B2', 'Q43', '56Y', 'CK7', 'NP5', '98J', 'XSW', '3DX', '48X', '48Z', 'XWR', '9YP', 'HHD', 'JK7', 'R1N', 'BZ6', 'W5J', 'VHS', 'RKD', 'NCM', 'DR8', 'SAN']\n"
     ]
    }
   ],
   "source": [
    "# due to the tree structure of the graph, this path is guaranteed to be the shortest\n",
    "path = g.find_path('YOU', 'SAN')\n",
    "print(path)"
   ]
  },
  {
   "cell_type": "code",
   "execution_count": 160,
   "metadata": {},
   "outputs": [
    {
     "data": {
      "text/plain": [
       "418"
      ]
     },
     "execution_count": 160,
     "metadata": {},
     "output_type": "execute_result"
    }
   ],
   "source": [
    "# the path includes YOU and SAN, so we remove those. In addition, we only need to orbit the same planet \n",
    "# santa, not orbit santa, so we remove an additional step (total 3)\n",
    "n_jumps = len(path)-3\n",
    "n_jumps"
   ]
  }
 ],
 "metadata": {
  "kernelspec": {
   "display_name": "Python 3",
   "language": "python",
   "name": "python3"
  },
  "language_info": {
   "codemirror_mode": {
    "name": "ipython",
    "version": 3
   },
   "file_extension": ".py",
   "mimetype": "text/x-python",
   "name": "python",
   "nbconvert_exporter": "python",
   "pygments_lexer": "ipython3",
   "version": "3.7.3"
  }
 },
 "nbformat": 4,
 "nbformat_minor": 2
}

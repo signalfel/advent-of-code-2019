{
 "cells": [
  {
   "cell_type": "code",
   "execution_count": 1,
   "metadata": {},
   "outputs": [],
   "source": [
    "%load_ext autoreload\n",
    "%autoreload 2"
   ]
  },
  {
   "cell_type": "code",
   "execution_count": 2,
   "metadata": {},
   "outputs": [],
   "source": [
    "from timeit import default_timer as timer\n",
    "import numpy as np\n",
    "import pandas as pd\n",
    "\n",
    "from IPython.core.debugger import set_trace"
   ]
  },
  {
   "cell_type": "code",
   "execution_count": 8,
   "metadata": {},
   "outputs": [],
   "source": [
    "test_schematic = '''COM)B\n",
    "B)C\n",
    "C)D\n",
    "D)E\n",
    "E)F\n",
    "B)G\n",
    "G)H\n",
    "D)I\n",
    "E)J\n",
    "J)K\n",
    "K)L'''"
   ]
  },
  {
   "cell_type": "code",
   "execution_count": 14,
   "metadata": {},
   "outputs": [],
   "source": [
    "def graph_from_schematic(schematic):\n",
    "    relationships = schematic.split('\\n')\n",
    "    graph = {}\n",
    "    for edge in relationships:\n",
    "        masses = edge.split(')')\n",
    "        orbiter = masses[1]\n",
    "        orbited = masses[0]\n",
    "        try:\n",
    "            graph[orbited].append(orbiter)\n",
    "        except KeyError:\n",
    "            graph[orbited] = [orbiter]\n",
    "        \n",
    "    return graph"
   ]
  },
  {
   "cell_type": "code",
   "execution_count": 16,
   "metadata": {},
   "outputs": [],
   "source": [
    "gmap = graph_from_schematic(test_schematic)"
   ]
  },
  {
   "cell_type": "code",
   "execution_count": 22,
   "metadata": {},
   "outputs": [],
   "source": [
    "class star_map:\n",
    "    def __init__(self, schematic):\n",
    "        self.__graph_dict = {}\n",
    "        self.direct_orbits = 0\n",
    "        self.indirect_orbits = 0\n",
    "        \n",
    "        if schematic is not None:\n",
    "            self.__graph_dict = graph_from_schematic(schematic)\n",
    "        \n",
    "        \n",
    "    def find_path(self, start_vertex, end_vertex, path=None):\n",
    "        \"\"\" find a path from start_vertex to end_vertex \n",
    "            in graph \"\"\"\n",
    "        if path == None:\n",
    "            path = []\n",
    "        graph = self.__graph_dict\n",
    "        path = path + [start_vertex]\n",
    "        if start_vertex == end_vertex:\n",
    "            return path\n",
    "        if start_vertex not in graph:\n",
    "            return None\n",
    "        for vertex in graph[start_vertex]:\n",
    "            if vertex not in path:\n",
    "                extended_path = self.find_path(vertex, \n",
    "                                               end_vertex, \n",
    "                                               path)\n",
    "                if extended_path: \n",
    "                    return extended_path\n",
    "        return None"
   ]
  },
  {
   "cell_type": "code",
   "execution_count": 4,
   "metadata": {},
   "outputs": [],
   "source": [
    "def generate_edges(graph):\n",
    "    edges = []\n",
    "    for node in graph:\n",
    "        for neighbour in graph[node]:\n",
    "            edges.append((node, neighbour))\n",
    "\n",
    "    return edges"
   ]
  },
  {
   "cell_type": "code",
   "execution_count": 21,
   "metadata": {},
   "outputs": [],
   "source": [
    "    def find_path(self, start_vertex, end_vertex, path=None):\n",
    "        \"\"\" find a path from start_vertex to end_vertex \n",
    "            in graph \"\"\"\n",
    "        if path == None:\n",
    "            path = []\n",
    "        graph = self.__graph_dict\n",
    "        path = path + [start_vertex]\n",
    "        if start_vertex == end_vertex:\n",
    "            return path\n",
    "        if start_vertex not in graph:\n",
    "            return None\n",
    "        for vertex in graph[start_vertex]:\n",
    "            if vertex not in path:\n",
    "                extended_path = self.find_path(vertex, \n",
    "                                               end_vertex, \n",
    "                                               path)\n",
    "                if extended_path: \n",
    "                    return extended_path\n",
    "        return None"
   ]
  },
  {
   "cell_type": "code",
   "execution_count": 19,
   "metadata": {},
   "outputs": [
    {
     "data": {
      "text/plain": [
       "[('COM', 'B'),\n",
       " ('B', 'C'),\n",
       " ('B', 'G'),\n",
       " ('C', 'D'),\n",
       " ('D', 'E'),\n",
       " ('D', 'I'),\n",
       " ('E', 'F'),\n",
       " ('E', 'J'),\n",
       " ('G', 'H'),\n",
       " ('J', 'K'),\n",
       " ('K', 'L')]"
      ]
     },
     "execution_count": 19,
     "metadata": {},
     "output_type": "execute_result"
    }
   ],
   "source": [
    "generate_edges(gmap)"
   ]
  },
  {
   "cell_type": "code",
   "execution_count": 23,
   "metadata": {},
   "outputs": [],
   "source": [
    "mp = star_map(test_schematic)"
   ]
  },
  {
   "cell_type": "code",
   "execution_count": 26,
   "metadata": {},
   "outputs": [
    {
     "data": {
      "text/plain": [
       "['COM', 'B', 'C', 'D', 'E', 'J', 'K', 'L']"
      ]
     },
     "execution_count": 26,
     "metadata": {},
     "output_type": "execute_result"
    }
   ],
   "source": [
    "mp.find_path('COM', 'L')"
   ]
  }
 ],
 "metadata": {
  "kernelspec": {
   "display_name": "Python 3",
   "language": "python",
   "name": "python3"
  },
  "language_info": {
   "codemirror_mode": {
    "name": "ipython",
    "version": 3
   },
   "file_extension": ".py",
   "mimetype": "text/x-python",
   "name": "python",
   "nbconvert_exporter": "python",
   "pygments_lexer": "ipython3",
   "version": "3.7.3"
  }
 },
 "nbformat": 4,
 "nbformat_minor": 2
}

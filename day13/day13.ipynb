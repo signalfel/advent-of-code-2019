{
 "cells": [
  {
   "cell_type": "code",
   "execution_count": 1,
   "metadata": {},
   "outputs": [],
   "source": [
    "%load_ext autoreload\n",
    "%autoreload 2"
   ]
  },
  {
   "cell_type": "code",
   "execution_count": 2,
   "metadata": {},
   "outputs": [],
   "source": [
    "import numpy as np\n",
    "import matplotlib.pyplot as plt\n",
    "import matplotlib.cm as cm\n",
    "from matplotlib import animation, rc\n",
    "from matplotlib.animation import FuncAnimation\n",
    "\n",
    "from IPython.display import HTML\n",
    "\n",
    "\n",
    "import sys\n",
    "sys.path.insert(0, '../code/')\n",
    "\n",
    "import intcode_computer as ic"
   ]
  },
  {
   "cell_type": "code",
   "execution_count": 3,
   "metadata": {},
   "outputs": [],
   "source": [
    "with open('input.txt') as inp:\n",
    "    in_program = inp.read()"
   ]
  },
  {
   "cell_type": "markdown",
   "metadata": {},
   "source": [
    "## Part I"
   ]
  },
  {
   "cell_type": "code",
   "execution_count": 4,
   "metadata": {},
   "outputs": [],
   "source": [
    "game = ic.machine(in_program, return_output = True, verbose=False)"
   ]
  },
  {
   "cell_type": "code",
   "execution_count": 5,
   "metadata": {},
   "outputs": [],
   "source": [
    "tiles = game.run()"
   ]
  },
  {
   "cell_type": "code",
   "execution_count": 6,
   "metadata": {},
   "outputs": [],
   "source": [
    "tile_array = np.reshape(np.array(tiles), (len(tiles)//3, 3))"
   ]
  },
  {
   "cell_type": "code",
   "execution_count": 7,
   "metadata": {},
   "outputs": [],
   "source": [
    "screen_size = (max(tile_array[:, 1])+1, max(tile_array[:, 0])+1)"
   ]
  },
  {
   "cell_type": "code",
   "execution_count": 8,
   "metadata": {},
   "outputs": [],
   "source": [
    "image = np.zeros(screen_size)\n",
    "for row in tile_array:\n",
    "    image[row[1], row[0]] = row[2]"
   ]
  },
  {
   "cell_type": "code",
   "execution_count": 9,
   "metadata": {},
   "outputs": [
    {
     "data": {
      "image/png": "[encoded data removed]",
      "text/plain": [
       "<Figure size 432x288 with 1 Axes>"
      ]
     },
     "metadata": {
      "needs_background": "light"
     },
     "output_type": "display_data"
    }
   ],
   "source": [
    "fig = plt.figure()\n",
    "ax = plt.axes()\n",
    "ax.imshow(image, interpolation='nearest', cmap=cm.Greys_r)\n",
    "plt.show()"
   ]
  },
  {
   "cell_type": "code",
   "execution_count": 10,
   "metadata": {},
   "outputs": [
    {
     "data": {
      "text/plain": [
       "207"
      ]
     },
     "execution_count": 10,
     "metadata": {},
     "output_type": "execute_result"
    }
   ],
   "source": [
    "len(image[image == 2])"
   ]
  },
  {
   "cell_type": "markdown",
   "metadata": {},
   "source": [
    "## Part II"
   ]
  },
  {
   "cell_type": "code",
   "execution_count": 21,
   "metadata": {},
   "outputs": [],
   "source": [
    "cheat_program = '2'+in_program[1:]"
   ]
  },
  {
   "cell_type": "code",
   "execution_count": 22,
   "metadata": {},
   "outputs": [],
   "source": [
    "def draw_screen(tiles, image, score):\n",
    "    tile_array = np.reshape(np.array(tiles), (len(tiles)//3, 3))\n",
    "    for row in tile_array:\n",
    "        if row[0] == -1:\n",
    "            score = row[2]\n",
    "        else:\n",
    "            image[row[1], row[0]] = row[2]\n",
    "        \n",
    "    fig = plt.figure()\n",
    "    ax = plt.axes()\n",
    "    ax.imshow(image, interpolation='nearest', cmap=cm.Greys_r)\n",
    "    plt.show()\n",
    "    print('Score: {}'.format(score))\n",
    "    return image, score"
   ]
  },
  {
   "cell_type": "code",
   "execution_count": 23,
   "metadata": {},
   "outputs": [],
   "source": [
    "import time\n",
    "from IPython.display import clear_output\n",
    "\n",
    "from pynput import keyboard\n",
    "\n",
    "def on_release(key):\n",
    "    global state\n",
    "    global image\n",
    "    global score\n",
    "    clear_output(wait=True)\n",
    "\n",
    "    game.input(state)\n",
    "    tiles = game.run()\n",
    "    image,score = draw_screen(tiles, image, score)\n",
    "    if game.is_terminated:\n",
    "        return False\n",
    "\n",
    "def on_press(key):\n",
    "    global state\n",
    "    if key == keyboard.Key.esc:\n",
    "        # Stop listener\n",
    "        return False\n",
    "    elif key == keyboard.Key.left:\n",
    "        state = -1\n",
    "    elif key == keyboard.Key.right:\n",
    "        state = 1\n",
    "    elif str(key) == \"'v'\":\n",
    "        state = 0"
   ]
  },
  {
   "cell_type": "markdown",
   "metadata": {},
   "source": [
    "## Initialize manual game"
   ]
  },
  {
   "cell_type": "code",
   "execution_count": 26,
   "metadata": {},
   "outputs": [],
   "source": [
    "image = np.zeros(screen_size)\n",
    "game = ic.machine(cheat_program, return_output = True, reset_outputs=True, verbose=False, inputs=[])\n",
    "tiles = game.run()"
   ]
  },
  {
   "cell_type": "markdown",
   "metadata": {},
   "source": [
    "## Play manual game\n",
    "\n",
    "- Press v to move ball without moving paddle\n",
    "- Move paddle with left or right"
   ]
  },
  {
   "cell_type": "code",
   "execution_count": 27,
   "metadata": {},
   "outputs": [
    {
     "data": {
      "image/png": "[encoded data removed]",
      "text/plain": [
       "<Figure size 432x288 with 1 Axes>"
      ]
     },
     "metadata": {
      "needs_background": "light"
     },
     "output_type": "display_data"
    },
    {
     "name": "stdout",
     "output_type": "stream",
     "text": [
      "Score: 0\n"
     ]
    }
   ],
   "source": [
    "state = 0\n",
    "changed = False\n",
    "image,score = draw_screen(tiles, image, score=0)\n",
    "\n",
    "listener = keyboard.Listener(on_press=on_press, on_release=on_release)\n",
    "listener.start()"
   ]
  },
  {
   "cell_type": "markdown",
   "metadata": {},
   "source": [
    "## Computer player"
   ]
  },
  {
   "cell_type": "code",
   "execution_count": 41,
   "metadata": {},
   "outputs": [],
   "source": [
    "def draw_screen(tiles, image, score, paddle_x=None, ball_x=None, show_game=True):\n",
    "    tile_array = np.reshape(np.array(tiles), (len(tiles)//3, 3))\n",
    "    for row in tile_array:\n",
    "        if row[0] == -1:\n",
    "            score = row[2]\n",
    "        else:\n",
    "            image[row[1], row[0]] = row[2]\n",
    "        \n",
    "        if row[2] == 3:\n",
    "            paddle_x = row[0]\n",
    "        elif row[2] == 4:\n",
    "            ball_x = row[0]\n",
    "    if show_game:\n",
    "        fig = plt.figure()\n",
    "        ax = plt.axes()\n",
    "        ax.imshow(image, interpolation='nearest', cmap=cm.Greys_r)\n",
    "        plt.show()\n",
    "        print('Score: {}'.format(score))\n",
    "    \n",
    "    return image, score, paddle_x, ball_x"
   ]
  },
  {
   "cell_type": "code",
   "execution_count": 42,
   "metadata": {},
   "outputs": [],
   "source": [
    "def make_decision(paddle_x, ball_x):\n",
    "    if ball_x == paddle_x:\n",
    "        return 0\n",
    "    elif ball_x > paddle_x:\n",
    "        return 1\n",
    "    elif ball_x < paddle_x:\n",
    "        return -1"
   ]
  },
  {
   "cell_type": "code",
   "execution_count": 44,
   "metadata": {},
   "outputs": [
    {
     "name": "stdout",
     "output_type": "stream",
     "text": [
      "10247\n"
     ]
    }
   ],
   "source": [
    "image = np.zeros(screen_size)\n",
    "game = ic.machine(cheat_program, return_output = True, reset_outputs=True, verbose=False, inputs=[])\n",
    "tiles = game.run()\n",
    "\n",
    "show_game = False\n",
    "\n",
    "image,score,paddle_x,ball_x = draw_screen(tiles, image, score=0, show_game=show_game)\n",
    "\n",
    "state = 0\n",
    "while True:\n",
    "    \n",
    "    if show_game:\n",
    "        time.sleep(0.001)\n",
    "        clear_output(wait=True)\n",
    "    \n",
    "    state = make_decision(paddle_x, ball_x)\n",
    "    \n",
    "    game.input(state)\n",
    "    tiles = game.run()\n",
    "    image,score,paddle_x,ball_x = draw_screen(tiles, image, score, paddle_x, ball_x, show_game=show_game)\n",
    "    \n",
    "    if game.is_terminated:\n",
    "        break\n",
    "    elif len(image[image == 2]) == 0:\n",
    "        break\n",
    "\n",
    "print(score)\n",
    "    "
   ]
  }
 ],
 "metadata": {
  "kernelspec": {
   "display_name": "Python 3",
   "language": "python",
   "name": "python3"
  },
  "language_info": {
   "codemirror_mode": {
    "name": "ipython",
    "version": 3
   },
   "file_extension": ".py",
   "mimetype": "text/x-python",
   "name": "python",
   "nbconvert_exporter": "python",
   "pygments_lexer": "ipython3",
   "version": "3.7.3"
  }
 },
 "nbformat": 4,
 "nbformat_minor": 2
}

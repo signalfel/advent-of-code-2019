{
 "cells": [
  {
   "cell_type": "code",
   "execution_count": 1,
   "metadata": {},
   "outputs": [],
   "source": [
    "%load_ext autoreload\n",
    "%autoreload 2"
   ]
  },
  {
   "cell_type": "code",
   "execution_count": 8,
   "metadata": {},
   "outputs": [],
   "source": [
    "import numpy as np\n",
    "import itertools"
   ]
  },
  {
   "cell_type": "code",
   "execution_count": 3,
   "metadata": {},
   "outputs": [],
   "source": [
    "test_positions = '''<x=-8, y=-10, z=0>\n",
    "<x=5, y=5, z=10>\n",
    "<x=2, y=-7, z=3>\n",
    "<x=9, y=-8, z=-3>'''"
   ]
  },
  {
   "cell_type": "code",
   "execution_count": 4,
   "metadata": {},
   "outputs": [],
   "source": [
    "in_positions = '''<x=6, y=10, z=10>\n",
    "<x=-9, y=3, z=17>\n",
    "<x=9, y=-4, z=14>\n",
    "<x=4, y=14, z=4>'''"
   ]
  },
  {
   "cell_type": "code",
   "execution_count": 33,
   "metadata": {},
   "outputs": [],
   "source": [
    "class moon:\n",
    "    def __init__(self, pos, vel = np.array([0, 0, 0]), name=None):\n",
    "        \n",
    "        self.pos = np.array(pos)\n",
    "        self.vel = vel\n",
    "        self.name = name\n",
    "    \n",
    "    def kinetic_energy(self):\n",
    "        return np.linalg.norm(self.vel, 1)\n",
    "\n",
    "    def potential_energy(self):\n",
    "        return np.linalg.norm(self.pos, 1)\n",
    "    \n",
    "    def total_energy(self):\n",
    "        return self.potential_energy()*self.kinetic_energy()\n",
    "    \n",
    "    def gravity(self, other):\n",
    "        r1 = self.pos\n",
    "        r2 = other.pos\n",
    "        \n",
    "        rel_vel = 1*(r2 > r1) -1*(r2 < r1) + 0*(r1 == r2)\n",
    "        self.vel = self.vel + rel_vel\n",
    "        other.vel = other.vel - rel_vel\n",
    "    \n",
    "    def step_time(self):\n",
    "        self.pos = self.pos + self.vel\n",
    "    \n",
    "    def __repr__(self):\n",
    "        return 'pos: {}, vel {}, total energy: {}'.format(self.pos, self.vel, self.total_energy())"
   ]
  },
  {
   "cell_type": "code",
   "execution_count": 51,
   "metadata": {},
   "outputs": [],
   "source": [
    "def get_names():\n",
    "    yield 'io'\n",
    "    yield 'eu'\n",
    "    yield 'ga'\n",
    "    yield 'ca'"
   ]
  },
  {
   "cell_type": "code",
   "execution_count": 52,
   "metadata": {},
   "outputs": [],
   "source": [
    "def moons_from_vectors(vectors_str):\n",
    "    names = get_names()\n",
    "    \n",
    "    vectors = vectors_str.split('\\n')\n",
    "    moons = []\n",
    "    for pos_str in vectors:\n",
    "        pos_str = pos_str[1:-1]\n",
    "        pos = np.array([0, 0, 0])\n",
    "        split_pos = pos_str.split(',')\n",
    "        pos[0] = int(split_pos[0].split('=')[1])\n",
    "        pos[1] = int(split_pos[1].split('=')[1])\n",
    "        pos[2] = int(split_pos[2].split('=')[1])\n",
    "        moons.append(moon(pos, name=next(names)))\n",
    "    \n",
    "    return moons"
   ]
  },
  {
   "cell_type": "code",
   "execution_count": 53,
   "metadata": {},
   "outputs": [],
   "source": [
    "moons = moons_from_vectors(in_positions)"
   ]
  },
  {
   "cell_type": "markdown",
   "metadata": {},
   "source": [
    "## Part I"
   ]
  },
  {
   "cell_type": "code",
   "execution_count": 9,
   "metadata": {},
   "outputs": [
    {
     "data": {
      "text/plain": [
       "13045.0"
      ]
     },
     "execution_count": 9,
     "metadata": {},
     "output_type": "execute_result"
    }
   ],
   "source": [
    "moons = moons_from_vectors(in_positions)\n",
    "\n",
    "for dt in range(1000):    \n",
    "    for moon1, moon2 in itertools.combinations(moons, r=2):\n",
    "        moon1.gravity(moon2)\n",
    "    \n",
    "    for moon_obj in moons:\n",
    "        moon_obj.step_time()\n",
    "    \n",
    "\n",
    "total_energy = 0\n",
    "for moon_obj in moons:\n",
    "    total_energy += moon_obj.total_energy()\n",
    "    \n",
    "total_energy"
   ]
  },
  {
   "cell_type": "markdown",
   "metadata": {},
   "source": [
    "## Part II"
   ]
  },
  {
   "cell_type": "code",
   "execution_count": 29,
   "metadata": {},
   "outputs": [],
   "source": [
    "import pandas as pd"
   ]
  },
  {
   "cell_type": "code",
   "execution_count": 27,
   "metadata": {},
   "outputs": [],
   "source": [
    "test_positions = '''<x=-1, y=0, z=2>\n",
    "<x=2, y=-10, z=-7>\n",
    "<x=4, y=-8, z=8>\n",
    "<x=3, y=5, z=-1>'''"
   ]
  },
  {
   "cell_type": "code",
   "execution_count": 47,
   "metadata": {},
   "outputs": [],
   "source": [
    "moon_df = pd.DataFrame({'moon': ['io', 'eu', 'ga', 'ca'], \n",
    "                        'x': [-1, 2, 4, 3],\n",
    "                         'y': [0, -10, -8, 5],\n",
    "                       'z': [2, -7, 8, -1]})"
   ]
  },
  {
   "cell_type": "code",
   "execution_count": 48,
   "metadata": {},
   "outputs": [
    {
     "data": {
      "text/html": [
       "<div>\n",
       "<style scoped>\n",
       "    .dataframe tbody tr th:only-of-type {\n",
       "        vertical-align: middle;\n",
       "    }\n",
       "\n",
       "    .dataframe tbody tr th {\n",
       "        vertical-align: top;\n",
       "    }\n",
       "\n",
       "    .dataframe thead th {\n",
       "        text-align: right;\n",
       "    }\n",
       "</style>\n",
       "<table border=\"1\" class=\"dataframe\">\n",
       "  <thead>\n",
       "    <tr style=\"text-align: right;\">\n",
       "      <th></th>\n",
       "      <th>moon</th>\n",
       "      <th>x</th>\n",
       "      <th>y</th>\n",
       "      <th>z</th>\n",
       "    </tr>\n",
       "  </thead>\n",
       "  <tbody>\n",
       "    <tr>\n",
       "      <th>0</th>\n",
       "      <td>io</td>\n",
       "      <td>-1</td>\n",
       "      <td>0</td>\n",
       "      <td>2</td>\n",
       "    </tr>\n",
       "    <tr>\n",
       "      <th>1</th>\n",
       "      <td>eu</td>\n",
       "      <td>2</td>\n",
       "      <td>-10</td>\n",
       "      <td>-7</td>\n",
       "    </tr>\n",
       "    <tr>\n",
       "      <th>2</th>\n",
       "      <td>ga</td>\n",
       "      <td>4</td>\n",
       "      <td>-8</td>\n",
       "      <td>8</td>\n",
       "    </tr>\n",
       "    <tr>\n",
       "      <th>3</th>\n",
       "      <td>ca</td>\n",
       "      <td>3</td>\n",
       "      <td>5</td>\n",
       "      <td>-1</td>\n",
       "    </tr>\n",
       "  </tbody>\n",
       "</table>\n",
       "</div>"
      ],
      "text/plain": [
       "  moon  x   y  z\n",
       "0   io -1   0  2\n",
       "1   eu  2 -10 -7\n",
       "2   ga  4  -8  8\n",
       "3   ca  3   5 -1"
      ]
     },
     "execution_count": 48,
     "metadata": {},
     "output_type": "execute_result"
    }
   ],
   "source": [
    "moon_df"
   ]
  },
  {
   "cell_type": "code",
   "execution_count": 65,
   "metadata": {},
   "outputs": [],
   "source": [
    "moons = moons_from_vectors(test_positions)\n",
    "\n",
    "moon_list = ['io', 'eu', 'ga', 'ca']\n",
    "\n",
    "moon_dfs = []\n",
    "for dt in range(10):    \n",
    "    for moon1, moon2 in itertools.combinations(moons, r=2):\n",
    "        moon1.gravity(moon2)\n",
    "    \n",
    "    xlist = []\n",
    "    ylist = []\n",
    "    zlist = []\n",
    "    for moon_obj in moons:\n",
    "        xlist.append(moon_obj.pos[0])\n",
    "        ylist.append(moon_obj.pos[1])\n",
    "        zlist.append(moon_obj.pos[2])\n",
    "        moon_obj.step_time()\n",
    "    moon_dfs.append(pd.DataFrame({'moon': ['io', 'eu', 'ga', 'ca'], \n",
    "                        'x': xlist,\n",
    "                         'y': ylist,\n",
    "                       'z': zlist}))\n",
    "    \n",
    "\n",
    "moon_states = pd.concat(moon_dfs, axis=0, ignore_index=True)"
   ]
  },
  {
   "cell_type": "code",
   "execution_count": 66,
   "metadata": {},
   "outputs": [
    {
     "data": {
      "text/html": [
       "<div>\n",
       "<style scoped>\n",
       "    .dataframe tbody tr th:only-of-type {\n",
       "        vertical-align: middle;\n",
       "    }\n",
       "\n",
       "    .dataframe tbody tr th {\n",
       "        vertical-align: top;\n",
       "    }\n",
       "\n",
       "    .dataframe thead th {\n",
       "        text-align: right;\n",
       "    }\n",
       "</style>\n",
       "<table border=\"1\" class=\"dataframe\">\n",
       "  <thead>\n",
       "    <tr style=\"text-align: right;\">\n",
       "      <th></th>\n",
       "      <th>moon</th>\n",
       "      <th>x</th>\n",
       "      <th>y</th>\n",
       "      <th>z</th>\n",
       "    </tr>\n",
       "  </thead>\n",
       "  <tbody>\n",
       "    <tr>\n",
       "      <th>0</th>\n",
       "      <td>io</td>\n",
       "      <td>-1</td>\n",
       "      <td>0</td>\n",
       "      <td>2</td>\n",
       "    </tr>\n",
       "    <tr>\n",
       "      <th>4</th>\n",
       "      <td>io</td>\n",
       "      <td>2</td>\n",
       "      <td>-1</td>\n",
       "      <td>1</td>\n",
       "    </tr>\n",
       "    <tr>\n",
       "      <th>8</th>\n",
       "      <td>io</td>\n",
       "      <td>5</td>\n",
       "      <td>-3</td>\n",
       "      <td>-1</td>\n",
       "    </tr>\n",
       "    <tr>\n",
       "      <th>12</th>\n",
       "      <td>io</td>\n",
       "      <td>5</td>\n",
       "      <td>-6</td>\n",
       "      <td>-1</td>\n",
       "    </tr>\n",
       "    <tr>\n",
       "      <th>16</th>\n",
       "      <td>io</td>\n",
       "      <td>2</td>\n",
       "      <td>-8</td>\n",
       "      <td>0</td>\n",
       "    </tr>\n",
       "    <tr>\n",
       "      <th>20</th>\n",
       "      <td>io</td>\n",
       "      <td>-1</td>\n",
       "      <td>-9</td>\n",
       "      <td>2</td>\n",
       "    </tr>\n",
       "    <tr>\n",
       "      <th>24</th>\n",
       "      <td>io</td>\n",
       "      <td>-1</td>\n",
       "      <td>-7</td>\n",
       "      <td>3</td>\n",
       "    </tr>\n",
       "    <tr>\n",
       "      <th>28</th>\n",
       "      <td>io</td>\n",
       "      <td>2</td>\n",
       "      <td>-2</td>\n",
       "      <td>1</td>\n",
       "    </tr>\n",
       "    <tr>\n",
       "      <th>32</th>\n",
       "      <td>io</td>\n",
       "      <td>5</td>\n",
       "      <td>2</td>\n",
       "      <td>-2</td>\n",
       "    </tr>\n",
       "    <tr>\n",
       "      <th>36</th>\n",
       "      <td>io</td>\n",
       "      <td>5</td>\n",
       "      <td>3</td>\n",
       "      <td>-4</td>\n",
       "    </tr>\n",
       "  </tbody>\n",
       "</table>\n",
       "</div>"
      ],
      "text/plain": [
       "   moon  x  y  z\n",
       "0    io -1  0  2\n",
       "4    io  2 -1  1\n",
       "8    io  5 -3 -1\n",
       "12   io  5 -6 -1\n",
       "16   io  2 -8  0\n",
       "20   io -1 -9  2\n",
       "24   io -1 -7  3\n",
       "28   io  2 -2  1\n",
       "32   io  5  2 -2\n",
       "36   io  5  3 -4"
      ]
     },
     "execution_count": 66,
     "metadata": {},
     "output_type": "execute_result"
    }
   ],
   "source": [
    "moon_states.loc[moon_states.moon == 'io']"
   ]
  },
  {
   "cell_type": "code",
   "execution_count": 67,
   "metadata": {},
   "outputs": [
    {
     "data": {
      "text/plain": [
       "[<mpl_toolkits.mplot3d.art3d.Line3D at 0x1ba6a413f60>]"
      ]
     },
     "execution_count": 67,
     "metadata": {},
     "output_type": "execute_result"
    },
    {
     "data": {
      "image/png": "[encoded data removed]",
      "text/plain": [
       "<Figure size 432x288 with 1 Axes>"
      ]
     },
     "metadata": {
      "needs_background": "light"
     },
     "output_type": "display_data"
    }
   ],
   "source": [
    "import matplotlib.pyplot as plt\n",
    "from mpl_toolkits.mplot3d import Axes3D\n",
    "\n",
    "%matplotlib inline\n",
    "\n",
    "fig = plt.figure()\n",
    "ax = fig.add_subplot(111, projection='3d')\n",
    "\n",
    "io = moon_states.loc[moon_states.moon == 'io']\n",
    "Axes3D.plot(ax, io.x, io.y, io.z)\n"
   ]
  },
  {
   "cell_type": "code",
   "execution_count": 13,
   "metadata": {},
   "outputs": [],
   "source": [
    "xs = [0, 0, 0, 0, 1]\n",
    "ys = [5, 4, 3, 2, 1]"
   ]
  },
  {
   "cell_type": "code",
   "execution_count": 25,
   "metadata": {},
   "outputs": [
    {
     "data": {
      "text/plain": [
       "[<mpl_toolkits.mplot3d.art3d.Line3D at 0x1ba68f238d0>]"
      ]
     },
     "execution_count": 25,
     "metadata": {},
     "output_type": "execute_result"
    }
   ],
   "source": []
  },
  {
   "cell_type": "code",
   "execution_count": 22,
   "metadata": {},
   "outputs": [],
   "source": [
    "plt.show()"
   ]
  },
  {
   "cell_type": "code",
   "execution_count": 19,
   "metadata": {},
   "outputs": [
    {
     "ename": "AttributeError",
     "evalue": "'Axes3DSubplot' object has no attribute 'show'",
     "output_type": "error",
     "traceback": [
      "\u001b[1;31m---------------------------------------------------------------------------\u001b[0m",
      "\u001b[1;31mAttributeError\u001b[0m                            Traceback (most recent call last)",
      "\u001b[1;32m<ipython-input-19-ece30bd5e827>\u001b[0m in \u001b[0;36m<module>\u001b[1;34m\u001b[0m\n\u001b[1;32m----> 1\u001b[1;33m \u001b[0max\u001b[0m\u001b[1;33m.\u001b[0m\u001b[0mshow\u001b[0m\u001b[1;33m(\u001b[0m\u001b[1;33m)\u001b[0m\u001b[1;33m\u001b[0m\u001b[1;33m\u001b[0m\u001b[0m\n\u001b[0m",
      "\u001b[1;31mAttributeError\u001b[0m: 'Axes3DSubplot' object has no attribute 'show'"
     ]
    }
   ],
   "source": []
  }
 ],
 "metadata": {
  "kernelspec": {
   "display_name": "Python 3",
   "language": "python",
   "name": "python3"
  },
  "language_info": {
   "codemirror_mode": {
    "name": "ipython",
    "version": 3
   },
   "file_extension": ".py",
   "mimetype": "text/x-python",
   "name": "python",
   "nbconvert_exporter": "python",
   "pygments_lexer": "ipython3",
   "version": "3.7.3"
  }
 },
 "nbformat": 4,
 "nbformat_minor": 2
}

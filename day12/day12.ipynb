{
 "cells": [
  {
   "cell_type": "code",
   "execution_count": 1,
   "metadata": {},
   "outputs": [],
   "source": [
    "%load_ext autoreload\n",
    "%autoreload 2"
   ]
  },
  {
   "cell_type": "code",
   "execution_count": 2,
   "metadata": {},
   "outputs": [],
   "source": [
    "import numpy as np\n",
    "import itertools"
   ]
  },
  {
   "cell_type": "code",
   "execution_count": 3,
   "metadata": {},
   "outputs": [],
   "source": [
    "test_positions = '''<x=-8, y=-10, z=0>\n",
    "<x=5, y=5, z=10>\n",
    "<x=2, y=-7, z=3>\n",
    "<x=9, y=-8, z=-3>'''"
   ]
  },
  {
   "cell_type": "code",
   "execution_count": 4,
   "metadata": {},
   "outputs": [],
   "source": [
    "in_positions = '''<x=6, y=10, z=10>\n",
    "<x=-9, y=3, z=17>\n",
    "<x=9, y=-4, z=14>\n",
    "<x=4, y=14, z=4>'''"
   ]
  },
  {
   "cell_type": "code",
   "execution_count": 5,
   "metadata": {},
   "outputs": [],
   "source": [
    "class moon:\n",
    "    def __init__(self, pos, vel = np.array([0, 0, 0])):\n",
    "        \n",
    "        self.pos = np.array(pos)\n",
    "        self.vel = vel\n",
    "    \n",
    "    def __repr__(self):\n",
    "        return 'pos: {}, vel {}'.format(self.pos, self.vel)\n",
    "    \n",
    "    def kinetic_energy(self):\n",
    "        return np.linalg.norm(self.vel, 1)\n",
    "\n",
    "    def potential_energy(self):\n",
    "        return np.linalg.norm(self.pos, 1)\n",
    "    \n",
    "    def total_energy(self):\n",
    "        return self.potential_energy()*self.kinetic_energy()\n",
    "    \n",
    "    def gravity(self, other):\n",
    "        r1 = self.pos\n",
    "        r2 = other.pos\n",
    "        \n",
    "        rel_vel = 1*(r2 > r1) - 1*(r2 < r1) + 0*(r1 == r2)\n",
    "        self.vel = self.vel + rel_vel\n",
    "        other.vel = other.vel - rel_vel\n",
    "    \n",
    "    def step_time(self):\n",
    "        self.pos = self.pos + self.vel"
   ]
  },
  {
   "cell_type": "code",
   "execution_count": 6,
   "metadata": {},
   "outputs": [],
   "source": [
    "def moons_from_vectors(vectors_str):\n",
    "    \n",
    "    vectors = vectors_str.split('\\n')\n",
    "    moons = []\n",
    "    for pos_str in vectors:\n",
    "        pos_str = pos_str[1:-1]\n",
    "        pos = np.array([0, 0, 0])\n",
    "        split_pos = pos_str.split(',')\n",
    "        pos[0] = int(split_pos[0].split('=')[1])\n",
    "        pos[1] = int(split_pos[1].split('=')[1])\n",
    "        pos[2] = int(split_pos[2].split('=')[1])\n",
    "        moons.append(moon(pos))\n",
    "    \n",
    "    return moons"
   ]
  },
  {
   "cell_type": "code",
   "execution_count": 7,
   "metadata": {},
   "outputs": [],
   "source": [
    "moons = moons_from_vectors(in_positions)"
   ]
  },
  {
   "cell_type": "markdown",
   "metadata": {},
   "source": [
    "## Part I"
   ]
  },
  {
   "cell_type": "code",
   "execution_count": 8,
   "metadata": {},
   "outputs": [
    {
     "data": {
      "text/plain": [
       "13045.0"
      ]
     },
     "execution_count": 8,
     "metadata": {},
     "output_type": "execute_result"
    }
   ],
   "source": [
    "moons = moons_from_vectors(in_positions)\n",
    "\n",
    "for dt in range(1000):    \n",
    "    for moon1, moon2 in itertools.combinations(moons, r=2):\n",
    "        moon1.gravity(moon2)\n",
    "    \n",
    "    for moon_obj in moons:\n",
    "        moon_obj.step_time()\n",
    "    \n",
    "\n",
    "total_energy = 0\n",
    "for moon_obj in moons:\n",
    "    total_energy += moon_obj.total_energy()\n",
    "    \n",
    "total_energy"
   ]
  },
  {
   "cell_type": "markdown",
   "metadata": {},
   "source": [
    "## Part II"
   ]
  },
  {
   "cell_type": "code",
   "execution_count": 76,
   "metadata": {},
   "outputs": [],
   "source": [
    "def initial_positions_from_vectors(vectors_str):\n",
    "    \n",
    "    vectors = vectors_str.split('\\n')\n",
    "    xlist = []\n",
    "    ylist = []\n",
    "    zlist = []\n",
    "    for pos_str in vectors:\n",
    "        pos_str = pos_str[1:-1]\n",
    "        pos = np.array([0, 0, 0])\n",
    "        split_pos = pos_str.split(',')\n",
    "        xlist.append(int(split_pos[0].split('=')[1]))\n",
    "        ylist.append(int(split_pos[1].split('=')[1]))\n",
    "        zlist.append(int(split_pos[2].split('=')[1]))\n",
    "    \n",
    "    return [xlist, ylist, zlist]"
   ]
  },
  {
   "cell_type": "code",
   "execution_count": 25,
   "metadata": {},
   "outputs": [],
   "source": [
    "combs = list(itertools.combinations([0, 1, 2, 3], r=2))\n",
    "def f(r, v):\n",
    "    for c in combs:\n",
    "        r1 = r[c[0]]\n",
    "        r2 = r[c[1]]\n",
    "        if r2 > r1:\n",
    "            rel_vel = 1\n",
    "        elif r2<r1:\n",
    "            rel_vel = -1\n",
    "        else:\n",
    "            rel_vel = 0\n",
    "        \n",
    "        v[c[0]] += rel_vel\n",
    "        v[c[1]] -= rel_vel\n",
    "    \n",
    "    r = r + v\n",
    "    return r,v"
   ]
  },
  {
   "cell_type": "code",
   "execution_count": 73,
   "metadata": {},
   "outputs": [],
   "source": [
    "from math import gcd\n",
    "def lcm(a,b,c):\n",
    "    lcmab = int((a*b/gcd(a,b)))\n",
    "    return int(lcmab*c/gcd(lcmab, c))\n",
    "\n",
    "def lcm_list(l):\n",
    "    return lcm(l[0], l[1], l[2])"
   ]
  },
  {
   "cell_type": "code",
   "execution_count": 56,
   "metadata": {},
   "outputs": [],
   "source": [
    "def find_cycle(r0, v0):\n",
    "    r = r0.copy()\n",
    "    v = v0.copy()\n",
    "    dt = 0\n",
    "    while True:\n",
    "        r,v = f(r,v)\n",
    "        if (r == r0).all() and (v == v0).all():\n",
    "            break\n",
    "\n",
    "        dt += 1\n",
    "    return dt+1"
   ]
  },
  {
   "cell_type": "code",
   "execution_count": 80,
   "metadata": {},
   "outputs": [],
   "source": [
    "initial_positions = initial_positions_from_vectors(in_positions)"
   ]
  },
  {
   "cell_type": "code",
   "execution_count": 81,
   "metadata": {},
   "outputs": [
    {
     "name": "stdout",
     "output_type": "stream",
     "text": [
      "344724687853944\n"
     ]
    }
   ],
   "source": [
    "cycle_lengths = []\n",
    "for r00 in initial_positions:\n",
    "    r0 = np.array(r00)\n",
    "    v0 = np.array([0, 0, 0, 0])\n",
    "    cycle_lengths.append( find_cycle(r0, v0) )\n",
    "\n",
    "print(lcm_list(cycle_lengths))"
   ]
  }
 ],
 "metadata": {
  "kernelspec": {
   "display_name": "Python 3",
   "language": "python",
   "name": "python3"
  },
  "language_info": {
   "codemirror_mode": {
    "name": "ipython",
    "version": 3
   },
   "file_extension": ".py",
   "mimetype": "text/x-python",
   "name": "python",
   "nbconvert_exporter": "python",
   "pygments_lexer": "ipython3",
   "version": "3.7.3"
  }
 },
 "nbformat": 4,
 "nbformat_minor": 2
}

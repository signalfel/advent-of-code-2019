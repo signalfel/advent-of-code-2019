{
 "cells": [
  {
   "cell_type": "code",
   "execution_count": 1,
   "metadata": {},
   "outputs": [],
   "source": [
    "%load_ext autoreload\n",
    "%autoreload 2"
   ]
  },
  {
   "cell_type": "code",
   "execution_count": 2,
   "metadata": {},
   "outputs": [],
   "source": [
    "from timeit import default_timer as timer\n",
    "import numpy as np\n",
    "import pandas as pd"
   ]
  },
  {
   "cell_type": "code",
   "execution_count": 3,
   "metadata": {},
   "outputs": [],
   "source": [
    "input_range = '171309-643603'\n",
    "\n",
    "def range_from_str(range_str):\n",
    "    spl = range_str.split('-')\n",
    "    return range(int(spl[0]), int(spl[1])+1)"
   ]
  },
  {
   "cell_type": "code",
   "execution_count": 4,
   "metadata": {},
   "outputs": [],
   "source": [
    "def get_intlist(integer):\n",
    "    return [int(i) for i in list(str(integer))]\n",
    "\n",
    "def is_increasing(intlist):\n",
    "    return all(i <= j for i, j in zip(intlist, intlist[1:])) \n",
    "\n",
    "def any_consecutive(intlist):\n",
    "    return any(i == j for i, j in zip(intlist, intlist[1:]))\n",
    "\n",
    "def any_lonely_pairs(intlist):\n",
    "    testlist=[-1, -1]+intlist+[-1, -1]\n",
    "    return any( i != j == k != l for i, j, k, l in zip(testlist, testlist[1:], testlist[2:], testlist[3:]))\n",
    "\n",
    "def fulfills_demands_part_one(num):\n",
    "    intlist = get_intlist(num)\n",
    "    return (is_increasing(intlist) and any_consecutive(intlist))\n",
    "            \n",
    "def fulfills_demands_part_two(num):\n",
    "    intlist = get_intlist(num)\n",
    "    return (is_increasing(intlist) and any_consecutive(intlist) and any_lonely_pairs(intlist))"
   ]
  },
  {
   "cell_type": "code",
   "execution_count": 6,
   "metadata": {},
   "outputs": [
    {
     "name": "stdout",
     "output_type": "stream",
     "text": [
      "1625\n",
      "1111\n"
     ]
    }
   ],
   "source": [
    "nums = pd.Series(range_from_str(input_range))\n",
    "\n",
    "print(nums.apply(fulfills_demands_part_one).sum())\n",
    "\n",
    "print(nums.apply(fulfills_demands_part_two).sum())"
   ]
  }
 ],
 "metadata": {
  "kernelspec": {
   "display_name": "Python 3",
   "language": "python",
   "name": "python3"
  },
  "language_info": {
   "codemirror_mode": {
    "name": "ipython",
    "version": 3
   },
   "file_extension": ".py",
   "mimetype": "text/x-python",
   "name": "python",
   "nbconvert_exporter": "python",
   "pygments_lexer": "ipython3",
   "version": "3.7.3"
  }
 },
 "nbformat": 4,
 "nbformat_minor": 2
}

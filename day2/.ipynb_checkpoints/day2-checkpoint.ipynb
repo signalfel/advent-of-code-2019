{
 "cells": [
  {
   "cell_type": "code",
   "execution_count": 1,
   "metadata": {},
   "outputs": [],
   "source": [
    "%load_ext autoreload\n",
    "%autoreload 2"
   ]
  },
  {
   "cell_type": "code",
   "execution_count": 39,
   "metadata": {},
   "outputs": [],
   "source": [
    "with open('input.txt') as inp:\n",
    "    in_program = inp.read()\n",
    "\n",
    "def state_from_program(program):\n",
    "    return [int(e) for e in program.split(',')]"
   ]
  },
  {
   "cell_type": "markdown",
   "metadata": {},
   "source": [
    "## Part I"
   ]
  },
  {
   "cell_type": "code",
   "execution_count": 38,
   "metadata": {},
   "outputs": [],
   "source": [
    "def add(a, b):\n",
    "    return a+b\n",
    "def multiply(a, b):\n",
    "    return a*b\n",
    "\n",
    "funcs = {1: add, 2: multiply}\n",
    "\n",
    "def run_opcode(state, cur_pos):\n",
    "    \n",
    "    func = funcs[state[cur_pos]]\n",
    "    \n",
    "    pos1 = state[cur_pos + 1]\n",
    "    pos2 = state[cur_pos + 2]\n",
    "    pos3 = state[cur_pos + 3]\n",
    "    \n",
    "    state[pos3] = func(state[pos1], state[pos2])\n",
    "    return state"
   ]
  },
  {
   "cell_type": "code",
   "execution_count": 28,
   "metadata": {},
   "outputs": [],
   "source": [
    "program = '1,9,10,3,2,3,11,0,99,30,40,50'\n",
    "program = '1,0,0,0,99'\n",
    "program = '2,3,0,3,99'"
   ]
  },
  {
   "cell_type": "code",
   "execution_count": 45,
   "metadata": {},
   "outputs": [
    {
     "name": "stdout",
     "output_type": "stream",
     "text": [
      "3267740\n"
     ]
    }
   ],
   "source": [
    "def initiate_program_one(state):\n",
    "    state[1] = 12\n",
    "    state[2] = 2\n",
    "    return state\n",
    "\n",
    "def run_program_one():\n",
    "    cur_pos = 0\n",
    "    state = state_from_program(in_program)\n",
    "    state = initiate_program_one(state)\n",
    "    while True:\n",
    "        run_opcode(state, cur_pos)\n",
    "        cur_pos += 4\n",
    "    \n",
    "        if state[cur_pos] == 99:\n",
    "            break\n",
    "    return state\n",
    "\n",
    "state = run_program_one()\n",
    "print(state[0])"
   ]
  },
  {
   "cell_type": "markdown",
   "metadata": {},
   "source": [
    "## Part II"
   ]
  },
  {
   "cell_type": "code",
   "execution_count": 50,
   "metadata": {},
   "outputs": [],
   "source": [
    "def reset_program():\n",
    "    return state_from_program(in_program)\n",
    "\n",
    "def initiate_program_two(state, noun, verb):\n",
    "    state[1] = noun\n",
    "    state[2] = verb\n",
    "    return state\n",
    "\n",
    "def run_program_two(noun, verb):\n",
    "    cur_pos = 0\n",
    "    state = reset_program()\n",
    "    state = initiate_program_two(state, noun, verb)\n",
    "    \n",
    "    while True:\n",
    "        run_opcode(state, cur_pos)\n",
    "        cur_pos += 4\n",
    "    \n",
    "        if state[cur_pos] == 99:\n",
    "            break\n",
    "    return state[0]"
   ]
  },
  {
   "cell_type": "code",
   "execution_count": 52,
   "metadata": {},
   "outputs": [],
   "source": [
    "wanted_output = 19690720"
   ]
  },
  {
   "cell_type": "code",
   "execution_count": 56,
   "metadata": {},
   "outputs": [
    {
     "name": "stdout",
     "output_type": "stream",
     "text": [
      "Solution found! Verb: 70, noun: 78. 100*n + v = 7870\n"
     ]
    }
   ],
   "source": [
    "for noun in range(100):\n",
    "    for verb in range(100):\n",
    "        result = run_program_two(noun, verb)\n",
    "        if (result == 19690720):\n",
    "            print('Solution found! Verb: {}, noun: {}. 100*n + v = {}'.format(verb, noun, 100*noun + verb))"
   ]
  }
 ],
 "metadata": {
  "kernelspec": {
   "display_name": "Python 3",
   "language": "python",
   "name": "python3"
  },
  "language_info": {
   "codemirror_mode": {
    "name": "ipython",
    "version": 3
   },
   "file_extension": ".py",
   "mimetype": "text/x-python",
   "name": "python",
   "nbconvert_exporter": "python",
   "pygments_lexer": "ipython3",
   "version": "3.7.3"
  }
 },
 "nbformat": 4,
 "nbformat_minor": 2
}

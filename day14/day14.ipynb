{
 "cells": [
  {
   "cell_type": "code",
   "execution_count": 1,
   "metadata": {},
   "outputs": [],
   "source": [
    "%load_ext autoreload\n",
    "%autoreload 2"
   ]
  },
  {
   "cell_type": "code",
   "execution_count": 39,
   "metadata": {},
   "outputs": [],
   "source": [
    "def batches(r, y):\n",
    "    return r//y + 1*(r%y != 0)\n",
    "\n",
    "class stockpile:\n",
    "    def __init__(self, reagents):\n",
    "        self.__total_ore_cost = 0\n",
    "        self.element_requirements = {}\n",
    "        self.reagent_dict = reagents\n",
    "        \n",
    "        \n",
    "    def order(self, reagent_name, amount):\n",
    "        reagent_obj = self.reagent_dict[reagent_name]\n",
    "        \n",
    "        if reagent_obj.is_element:\n",
    "            if reagent_obj.name in self.element_requirements:\n",
    "                self.element_requirements[reagent_obj.name] += amount\n",
    "            else:\n",
    "                self.element_requirements[reagent_obj.name] = amount\n",
    "        else:\n",
    "            for r_name, r_cost in reagent_obj.costs.items():\n",
    "                self.order(r_name, amount*r_cost)\n",
    "        \n",
    "    def make_elements(self):\n",
    "        for r_name, r_req in self.element_requirements.items():\n",
    "            reagent_obj = self.reagent_dict[r_name]\n",
    "            n_batches = batches(r_req, reagent_obj.r_yield)\n",
    "            self.__total_ore_cost += n_batches*reagent_obj.costs['ORE']\n",
    "            \n",
    "        return self.__total_ore_cost"
   ]
  },
  {
   "cell_type": "code",
   "execution_count": 25,
   "metadata": {},
   "outputs": [],
   "source": [
    "class reagent:\n",
    "    def __init__(self, reaction_str):\n",
    "        split_str = reaction_str.split('=>')\n",
    "        \n",
    "        rhs = split_str[1].strip().split(' ')\n",
    "        \n",
    "        \n",
    "        self.name = rhs[1]\n",
    "        self.r_yield = int(rhs[0])\n",
    "        \n",
    "        lhs = split_str[0].split(',')\n",
    "        self.costs = {}\n",
    "        for term in lhs:\n",
    "            term = term.strip()\n",
    "            spl = term.split(' ')\n",
    "            self.costs[spl[1]] = int(spl[0])\n",
    "        \n",
    "        if 'ORE' in self.costs:\n",
    "            self.is_element = True\n",
    "        else:\n",
    "            self.is_element = False\n",
    "        \n",
    "        self.__reaction_str = reaction_str\n",
    "        \n",
    "    def __repr__(self):                         \n",
    "        return self.__reaction_str"
   ]
  },
  {
   "cell_type": "code",
   "execution_count": 26,
   "metadata": {},
   "outputs": [],
   "source": [
    "def reagents_from_reactions(reactions):\n",
    "    reaction_split = reactions.split('\\n')\n",
    "    reagents = {}\n",
    "    for reaction_str in reaction_split:\n",
    "        r = reagent(reaction_str)\n",
    "        reagents[r.name] = r\n",
    "    \n",
    "    return reagents"
   ]
  },
  {
   "cell_type": "code",
   "execution_count": null,
   "metadata": {},
   "outputs": [],
   "source": [
    "test_reactions = '''10 ORE => 10 A\n",
    "1 ORE => 1 B\n",
    "7 A, 1 B => 1 C\n",
    "7 A, 1 C => 1 D\n",
    "7 A, 1 D => 1 E\n",
    "7 A, 1 E => 1 FUEL'''"
   ]
  },
  {
   "cell_type": "code",
   "execution_count": 40,
   "metadata": {},
   "outputs": [],
   "source": [
    "test_reactions = '''9 ORE => 2 A\n",
    "8 ORE => 3 B\n",
    "7 ORE => 5 C\n",
    "3 A, 4 B => 1 AB\n",
    "5 B, 7 C => 1 BC\n",
    "4 C, 1 A => 1 CA\n",
    "2 AB, 3 BC, 4 CA => 1 FUEL'''"
   ]
  },
  {
   "cell_type": "code",
   "execution_count": 49,
   "metadata": {},
   "outputs": [],
   "source": [
    "test_reactions = '''157 ORE => 5 NZVS\n",
    "165 ORE => 6 DCFZ\n",
    "44 XJWVT, 5 KHKGT, 1 QDVJ, 29 NZVS, 9 GPVTF, 48 HKGWZ => 1 FUEL\n",
    "12 HKGWZ, 1 GPVTF, 8 PSHF => 9 QDVJ\n",
    "179 ORE => 7 PSHF\n",
    "177 ORE => 5 HKGWZ\n",
    "7 DCFZ, 7 PSHF => 2 XJWVT\n",
    "165 ORE => 2 GPVTF\n",
    "3 DCFZ, 7 NZVS, 5 HKGWZ, 10 PSHF => 8 KHKGT'''"
   ]
  },
  {
   "cell_type": "code",
   "execution_count": 50,
   "metadata": {},
   "outputs": [
    {
     "data": {
      "text/plain": [
       "{'NZVS': 157 ORE => 5 NZVS,\n",
       " 'DCFZ': 165 ORE => 6 DCFZ,\n",
       " 'FUEL': 44 XJWVT, 5 KHKGT, 1 QDVJ, 29 NZVS, 9 GPVTF, 48 HKGWZ => 1 FUEL,\n",
       " 'QDVJ': 12 HKGWZ, 1 GPVTF, 8 PSHF => 9 QDVJ,\n",
       " 'PSHF': 179 ORE => 7 PSHF,\n",
       " 'HKGWZ': 177 ORE => 5 HKGWZ,\n",
       " 'XJWVT': 7 DCFZ, 7 PSHF => 2 XJWVT,\n",
       " 'GPVTF': 165 ORE => 2 GPVTF,\n",
       " 'KHKGT': 3 DCFZ, 7 NZVS, 5 HKGWZ, 10 PSHF => 8 KHKGT}"
      ]
     },
     "execution_count": 50,
     "metadata": {},
     "output_type": "execute_result"
    }
   ],
   "source": [
    "reagents = reagents_from_reactions(test_reactions)\n",
    "reagents"
   ]
  },
  {
   "cell_type": "code",
   "execution_count": 51,
   "metadata": {},
   "outputs": [],
   "source": [
    "stash = stockpile(reagents)"
   ]
  },
  {
   "cell_type": "code",
   "execution_count": 52,
   "metadata": {},
   "outputs": [],
   "source": [
    "stash.order('FUEL', 1)"
   ]
  },
  {
   "cell_type": "code",
   "execution_count": 53,
   "metadata": {},
   "outputs": [
    {
     "data": {
      "text/plain": [
       "{'DCFZ': 323, 'PSHF': 366, 'NZVS': 64, 'HKGWZ': 85, 'GPVTF': 10}"
      ]
     },
     "execution_count": 53,
     "metadata": {},
     "output_type": "execute_result"
    }
   ],
   "source": [
    "stash.element_requirements"
   ]
  },
  {
   "cell_type": "code",
   "execution_count": 54,
   "metadata": {},
   "outputs": [
    {
     "data": {
      "text/plain": [
       "24272"
      ]
     },
     "execution_count": 54,
     "metadata": {},
     "output_type": "execute_result"
    }
   ],
   "source": [
    "stash.make_elements()"
   ]
  }
 ],
 "metadata": {
  "kernelspec": {
   "display_name": "Python 3",
   "language": "python",
   "name": "python3"
  },
  "language_info": {
   "codemirror_mode": {
    "name": "ipython",
    "version": 3
   },
   "file_extension": ".py",
   "mimetype": "text/x-python",
   "name": "python",
   "nbconvert_exporter": "python",
   "pygments_lexer": "ipython3",
   "version": "3.7.3"
  }
 },
 "nbformat": 4,
 "nbformat_minor": 2
}
